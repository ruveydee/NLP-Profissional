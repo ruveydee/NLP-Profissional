{
  "nbformat": 4,
  "nbformat_minor": 0,
  "metadata": {
    "colab": {
      "provenance": [],
      "machine_shape": "hm",
      "include_colab_link": true
    },
    "kernelspec": {
      "name": "python3",
      "display_name": "Python 3"
    },
    "language_info": {
      "name": "python"
    },
    "widgets": {
      "application/vnd.jupyter.widget-state+json": {
        "d133746479714e23be76ce1fb00a6a14": {
          "model_module": "@jupyter-widgets/controls",
          "model_name": "HBoxModel",
          "model_module_version": "1.5.0",
          "state": {
            "_dom_classes": [],
            "_model_module": "@jupyter-widgets/controls",
            "_model_module_version": "1.5.0",
            "_model_name": "HBoxModel",
            "_view_count": null,
            "_view_module": "@jupyter-widgets/controls",
            "_view_module_version": "1.5.0",
            "_view_name": "HBoxView",
            "box_style": "",
            "children": [
              "IPY_MODEL_1ded5308f6df420c8e3cf9e0becec88e",
              "IPY_MODEL_fcf34ea171124e648443f9199bbf4b78",
              "IPY_MODEL_e0448ca793e74e3889b3774bdf6e76ce"
            ],
            "layout": "IPY_MODEL_f9a1dd738992478ab5894ea780951726"
          }
        },
        "1ded5308f6df420c8e3cf9e0becec88e": {
          "model_module": "@jupyter-widgets/controls",
          "model_name": "HTMLModel",
          "model_module_version": "1.5.0",
          "state": {
            "_dom_classes": [],
            "_model_module": "@jupyter-widgets/controls",
            "_model_module_version": "1.5.0",
            "_model_name": "HTMLModel",
            "_view_count": null,
            "_view_module": "@jupyter-widgets/controls",
            "_view_module_version": "1.5.0",
            "_view_name": "HTMLView",
            "description": "",
            "description_tooltip": null,
            "layout": "IPY_MODEL_78ffab59195d495e9515e9396e066491",
            "placeholder": "​",
            "style": "IPY_MODEL_03167292c4fb464894d169ea61361be7",
            "value": "Map: 100%"
          }
        },
        "fcf34ea171124e648443f9199bbf4b78": {
          "model_module": "@jupyter-widgets/controls",
          "model_name": "FloatProgressModel",
          "model_module_version": "1.5.0",
          "state": {
            "_dom_classes": [],
            "_model_module": "@jupyter-widgets/controls",
            "_model_module_version": "1.5.0",
            "_model_name": "FloatProgressModel",
            "_view_count": null,
            "_view_module": "@jupyter-widgets/controls",
            "_view_module_version": "1.5.0",
            "_view_name": "ProgressView",
            "bar_style": "success",
            "description": "",
            "description_tooltip": null,
            "layout": "IPY_MODEL_186de00a168d41af9d37a15bbae78b18",
            "max": 28160,
            "min": 0,
            "orientation": "horizontal",
            "style": "IPY_MODEL_9fb20629429342439f4e5f4012cac526",
            "value": 28160
          }
        },
        "e0448ca793e74e3889b3774bdf6e76ce": {
          "model_module": "@jupyter-widgets/controls",
          "model_name": "HTMLModel",
          "model_module_version": "1.5.0",
          "state": {
            "_dom_classes": [],
            "_model_module": "@jupyter-widgets/controls",
            "_model_module_version": "1.5.0",
            "_model_name": "HTMLModel",
            "_view_count": null,
            "_view_module": "@jupyter-widgets/controls",
            "_view_module_version": "1.5.0",
            "_view_name": "HTMLView",
            "description": "",
            "description_tooltip": null,
            "layout": "IPY_MODEL_61629161f5114a15a3e9e3465234dbf0",
            "placeholder": "​",
            "style": "IPY_MODEL_01b30518489f43b39afd7efc6864d410",
            "value": " 28160/28160 [00:09&lt;00:00, 3015.52 examples/s]"
          }
        },
        "f9a1dd738992478ab5894ea780951726": {
          "model_module": "@jupyter-widgets/base",
          "model_name": "LayoutModel",
          "model_module_version": "1.2.0",
          "state": {
            "_model_module": "@jupyter-widgets/base",
            "_model_module_version": "1.2.0",
            "_model_name": "LayoutModel",
            "_view_count": null,
            "_view_module": "@jupyter-widgets/base",
            "_view_module_version": "1.2.0",
            "_view_name": "LayoutView",
            "align_content": null,
            "align_items": null,
            "align_self": null,
            "border": null,
            "bottom": null,
            "display": null,
            "flex": null,
            "flex_flow": null,
            "grid_area": null,
            "grid_auto_columns": null,
            "grid_auto_flow": null,
            "grid_auto_rows": null,
            "grid_column": null,
            "grid_gap": null,
            "grid_row": null,
            "grid_template_areas": null,
            "grid_template_columns": null,
            "grid_template_rows": null,
            "height": null,
            "justify_content": null,
            "justify_items": null,
            "left": null,
            "margin": null,
            "max_height": null,
            "max_width": null,
            "min_height": null,
            "min_width": null,
            "object_fit": null,
            "object_position": null,
            "order": null,
            "overflow": null,
            "overflow_x": null,
            "overflow_y": null,
            "padding": null,
            "right": null,
            "top": null,
            "visibility": null,
            "width": null
          }
        },
        "78ffab59195d495e9515e9396e066491": {
          "model_module": "@jupyter-widgets/base",
          "model_name": "LayoutModel",
          "model_module_version": "1.2.0",
          "state": {
            "_model_module": "@jupyter-widgets/base",
            "_model_module_version": "1.2.0",
            "_model_name": "LayoutModel",
            "_view_count": null,
            "_view_module": "@jupyter-widgets/base",
            "_view_module_version": "1.2.0",
            "_view_name": "LayoutView",
            "align_content": null,
            "align_items": null,
            "align_self": null,
            "border": null,
            "bottom": null,
            "display": null,
            "flex": null,
            "flex_flow": null,
            "grid_area": null,
            "grid_auto_columns": null,
            "grid_auto_flow": null,
            "grid_auto_rows": null,
            "grid_column": null,
            "grid_gap": null,
            "grid_row": null,
            "grid_template_areas": null,
            "grid_template_columns": null,
            "grid_template_rows": null,
            "height": null,
            "justify_content": null,
            "justify_items": null,
            "left": null,
            "margin": null,
            "max_height": null,
            "max_width": null,
            "min_height": null,
            "min_width": null,
            "object_fit": null,
            "object_position": null,
            "order": null,
            "overflow": null,
            "overflow_x": null,
            "overflow_y": null,
            "padding": null,
            "right": null,
            "top": null,
            "visibility": null,
            "width": null
          }
        },
        "03167292c4fb464894d169ea61361be7": {
          "model_module": "@jupyter-widgets/controls",
          "model_name": "DescriptionStyleModel",
          "model_module_version": "1.5.0",
          "state": {
            "_model_module": "@jupyter-widgets/controls",
            "_model_module_version": "1.5.0",
            "_model_name": "DescriptionStyleModel",
            "_view_count": null,
            "_view_module": "@jupyter-widgets/base",
            "_view_module_version": "1.2.0",
            "_view_name": "StyleView",
            "description_width": ""
          }
        },
        "186de00a168d41af9d37a15bbae78b18": {
          "model_module": "@jupyter-widgets/base",
          "model_name": "LayoutModel",
          "model_module_version": "1.2.0",
          "state": {
            "_model_module": "@jupyter-widgets/base",
            "_model_module_version": "1.2.0",
            "_model_name": "LayoutModel",
            "_view_count": null,
            "_view_module": "@jupyter-widgets/base",
            "_view_module_version": "1.2.0",
            "_view_name": "LayoutView",
            "align_content": null,
            "align_items": null,
            "align_self": null,
            "border": null,
            "bottom": null,
            "display": null,
            "flex": null,
            "flex_flow": null,
            "grid_area": null,
            "grid_auto_columns": null,
            "grid_auto_flow": null,
            "grid_auto_rows": null,
            "grid_column": null,
            "grid_gap": null,
            "grid_row": null,
            "grid_template_areas": null,
            "grid_template_columns": null,
            "grid_template_rows": null,
            "height": null,
            "justify_content": null,
            "justify_items": null,
            "left": null,
            "margin": null,
            "max_height": null,
            "max_width": null,
            "min_height": null,
            "min_width": null,
            "object_fit": null,
            "object_position": null,
            "order": null,
            "overflow": null,
            "overflow_x": null,
            "overflow_y": null,
            "padding": null,
            "right": null,
            "top": null,
            "visibility": null,
            "width": null
          }
        },
        "9fb20629429342439f4e5f4012cac526": {
          "model_module": "@jupyter-widgets/controls",
          "model_name": "ProgressStyleModel",
          "model_module_version": "1.5.0",
          "state": {
            "_model_module": "@jupyter-widgets/controls",
            "_model_module_version": "1.5.0",
            "_model_name": "ProgressStyleModel",
            "_view_count": null,
            "_view_module": "@jupyter-widgets/base",
            "_view_module_version": "1.2.0",
            "_view_name": "StyleView",
            "bar_color": null,
            "description_width": ""
          }
        },
        "61629161f5114a15a3e9e3465234dbf0": {
          "model_module": "@jupyter-widgets/base",
          "model_name": "LayoutModel",
          "model_module_version": "1.2.0",
          "state": {
            "_model_module": "@jupyter-widgets/base",
            "_model_module_version": "1.2.0",
            "_model_name": "LayoutModel",
            "_view_count": null,
            "_view_module": "@jupyter-widgets/base",
            "_view_module_version": "1.2.0",
            "_view_name": "LayoutView",
            "align_content": null,
            "align_items": null,
            "align_self": null,
            "border": null,
            "bottom": null,
            "display": null,
            "flex": null,
            "flex_flow": null,
            "grid_area": null,
            "grid_auto_columns": null,
            "grid_auto_flow": null,
            "grid_auto_rows": null,
            "grid_column": null,
            "grid_gap": null,
            "grid_row": null,
            "grid_template_areas": null,
            "grid_template_columns": null,
            "grid_template_rows": null,
            "height": null,
            "justify_content": null,
            "justify_items": null,
            "left": null,
            "margin": null,
            "max_height": null,
            "max_width": null,
            "min_height": null,
            "min_width": null,
            "object_fit": null,
            "object_position": null,
            "order": null,
            "overflow": null,
            "overflow_x": null,
            "overflow_y": null,
            "padding": null,
            "right": null,
            "top": null,
            "visibility": null,
            "width": null
          }
        },
        "01b30518489f43b39afd7efc6864d410": {
          "model_module": "@jupyter-widgets/controls",
          "model_name": "DescriptionStyleModel",
          "model_module_version": "1.5.0",
          "state": {
            "_model_module": "@jupyter-widgets/controls",
            "_model_module_version": "1.5.0",
            "_model_name": "DescriptionStyleModel",
            "_view_count": null,
            "_view_module": "@jupyter-widgets/base",
            "_view_module_version": "1.2.0",
            "_view_name": "StyleView",
            "description_width": ""
          }
        },
        "d9e289dab38d4c838da6840ad74d0435": {
          "model_module": "@jupyter-widgets/controls",
          "model_name": "HBoxModel",
          "model_module_version": "1.5.0",
          "state": {
            "_dom_classes": [],
            "_model_module": "@jupyter-widgets/controls",
            "_model_module_version": "1.5.0",
            "_model_name": "HBoxModel",
            "_view_count": null,
            "_view_module": "@jupyter-widgets/controls",
            "_view_module_version": "1.5.0",
            "_view_name": "HBoxView",
            "box_style": "",
            "children": [
              "IPY_MODEL_6c6c0846d7bd432c93975df72615d004",
              "IPY_MODEL_d6a68ace8c78448fbefc96eec39e91a6",
              "IPY_MODEL_bc0c3d6c933d44b89832e14c2e49aba4"
            ],
            "layout": "IPY_MODEL_54b5a97865ce4456857a034db35073e2"
          }
        },
        "6c6c0846d7bd432c93975df72615d004": {
          "model_module": "@jupyter-widgets/controls",
          "model_name": "HTMLModel",
          "model_module_version": "1.5.0",
          "state": {
            "_dom_classes": [],
            "_model_module": "@jupyter-widgets/controls",
            "_model_module_version": "1.5.0",
            "_model_name": "HTMLModel",
            "_view_count": null,
            "_view_module": "@jupyter-widgets/controls",
            "_view_module_version": "1.5.0",
            "_view_name": "HTMLView",
            "description": "",
            "description_tooltip": null,
            "layout": "IPY_MODEL_f3f5735c250745e59381b6f1aa596d97",
            "placeholder": "​",
            "style": "IPY_MODEL_af1ceef31f19402db0a3339d9979876b",
            "value": "Map: 100%"
          }
        },
        "d6a68ace8c78448fbefc96eec39e91a6": {
          "model_module": "@jupyter-widgets/controls",
          "model_name": "FloatProgressModel",
          "model_module_version": "1.5.0",
          "state": {
            "_dom_classes": [],
            "_model_module": "@jupyter-widgets/controls",
            "_model_module_version": "1.5.0",
            "_model_name": "FloatProgressModel",
            "_view_count": null,
            "_view_module": "@jupyter-widgets/controls",
            "_view_module_version": "1.5.0",
            "_view_name": "ProgressView",
            "bar_style": "success",
            "description": "",
            "description_tooltip": null,
            "layout": "IPY_MODEL_3093356900cc4cab9e2dca94fb445bc8",
            "max": 7040,
            "min": 0,
            "orientation": "horizontal",
            "style": "IPY_MODEL_d78bdb9f3bc64895b14afb4d50ee2722",
            "value": 7040
          }
        },
        "bc0c3d6c933d44b89832e14c2e49aba4": {
          "model_module": "@jupyter-widgets/controls",
          "model_name": "HTMLModel",
          "model_module_version": "1.5.0",
          "state": {
            "_dom_classes": [],
            "_model_module": "@jupyter-widgets/controls",
            "_model_module_version": "1.5.0",
            "_model_name": "HTMLModel",
            "_view_count": null,
            "_view_module": "@jupyter-widgets/controls",
            "_view_module_version": "1.5.0",
            "_view_name": "HTMLView",
            "description": "",
            "description_tooltip": null,
            "layout": "IPY_MODEL_295caa5e9b5f4a8ba690f9df022e6a68",
            "placeholder": "​",
            "style": "IPY_MODEL_1ee2909250674ea9807458044ed889c5",
            "value": " 7040/7040 [00:02&lt;00:00, 3237.75 examples/s]"
          }
        },
        "54b5a97865ce4456857a034db35073e2": {
          "model_module": "@jupyter-widgets/base",
          "model_name": "LayoutModel",
          "model_module_version": "1.2.0",
          "state": {
            "_model_module": "@jupyter-widgets/base",
            "_model_module_version": "1.2.0",
            "_model_name": "LayoutModel",
            "_view_count": null,
            "_view_module": "@jupyter-widgets/base",
            "_view_module_version": "1.2.0",
            "_view_name": "LayoutView",
            "align_content": null,
            "align_items": null,
            "align_self": null,
            "border": null,
            "bottom": null,
            "display": null,
            "flex": null,
            "flex_flow": null,
            "grid_area": null,
            "grid_auto_columns": null,
            "grid_auto_flow": null,
            "grid_auto_rows": null,
            "grid_column": null,
            "grid_gap": null,
            "grid_row": null,
            "grid_template_areas": null,
            "grid_template_columns": null,
            "grid_template_rows": null,
            "height": null,
            "justify_content": null,
            "justify_items": null,
            "left": null,
            "margin": null,
            "max_height": null,
            "max_width": null,
            "min_height": null,
            "min_width": null,
            "object_fit": null,
            "object_position": null,
            "order": null,
            "overflow": null,
            "overflow_x": null,
            "overflow_y": null,
            "padding": null,
            "right": null,
            "top": null,
            "visibility": null,
            "width": null
          }
        },
        "f3f5735c250745e59381b6f1aa596d97": {
          "model_module": "@jupyter-widgets/base",
          "model_name": "LayoutModel",
          "model_module_version": "1.2.0",
          "state": {
            "_model_module": "@jupyter-widgets/base",
            "_model_module_version": "1.2.0",
            "_model_name": "LayoutModel",
            "_view_count": null,
            "_view_module": "@jupyter-widgets/base",
            "_view_module_version": "1.2.0",
            "_view_name": "LayoutView",
            "align_content": null,
            "align_items": null,
            "align_self": null,
            "border": null,
            "bottom": null,
            "display": null,
            "flex": null,
            "flex_flow": null,
            "grid_area": null,
            "grid_auto_columns": null,
            "grid_auto_flow": null,
            "grid_auto_rows": null,
            "grid_column": null,
            "grid_gap": null,
            "grid_row": null,
            "grid_template_areas": null,
            "grid_template_columns": null,
            "grid_template_rows": null,
            "height": null,
            "justify_content": null,
            "justify_items": null,
            "left": null,
            "margin": null,
            "max_height": null,
            "max_width": null,
            "min_height": null,
            "min_width": null,
            "object_fit": null,
            "object_position": null,
            "order": null,
            "overflow": null,
            "overflow_x": null,
            "overflow_y": null,
            "padding": null,
            "right": null,
            "top": null,
            "visibility": null,
            "width": null
          }
        },
        "af1ceef31f19402db0a3339d9979876b": {
          "model_module": "@jupyter-widgets/controls",
          "model_name": "DescriptionStyleModel",
          "model_module_version": "1.5.0",
          "state": {
            "_model_module": "@jupyter-widgets/controls",
            "_model_module_version": "1.5.0",
            "_model_name": "DescriptionStyleModel",
            "_view_count": null,
            "_view_module": "@jupyter-widgets/base",
            "_view_module_version": "1.2.0",
            "_view_name": "StyleView",
            "description_width": ""
          }
        },
        "3093356900cc4cab9e2dca94fb445bc8": {
          "model_module": "@jupyter-widgets/base",
          "model_name": "LayoutModel",
          "model_module_version": "1.2.0",
          "state": {
            "_model_module": "@jupyter-widgets/base",
            "_model_module_version": "1.2.0",
            "_model_name": "LayoutModel",
            "_view_count": null,
            "_view_module": "@jupyter-widgets/base",
            "_view_module_version": "1.2.0",
            "_view_name": "LayoutView",
            "align_content": null,
            "align_items": null,
            "align_self": null,
            "border": null,
            "bottom": null,
            "display": null,
            "flex": null,
            "flex_flow": null,
            "grid_area": null,
            "grid_auto_columns": null,
            "grid_auto_flow": null,
            "grid_auto_rows": null,
            "grid_column": null,
            "grid_gap": null,
            "grid_row": null,
            "grid_template_areas": null,
            "grid_template_columns": null,
            "grid_template_rows": null,
            "height": null,
            "justify_content": null,
            "justify_items": null,
            "left": null,
            "margin": null,
            "max_height": null,
            "max_width": null,
            "min_height": null,
            "min_width": null,
            "object_fit": null,
            "object_position": null,
            "order": null,
            "overflow": null,
            "overflow_x": null,
            "overflow_y": null,
            "padding": null,
            "right": null,
            "top": null,
            "visibility": null,
            "width": null
          }
        },
        "d78bdb9f3bc64895b14afb4d50ee2722": {
          "model_module": "@jupyter-widgets/controls",
          "model_name": "ProgressStyleModel",
          "model_module_version": "1.5.0",
          "state": {
            "_model_module": "@jupyter-widgets/controls",
            "_model_module_version": "1.5.0",
            "_model_name": "ProgressStyleModel",
            "_view_count": null,
            "_view_module": "@jupyter-widgets/base",
            "_view_module_version": "1.2.0",
            "_view_name": "StyleView",
            "bar_color": null,
            "description_width": ""
          }
        },
        "295caa5e9b5f4a8ba690f9df022e6a68": {
          "model_module": "@jupyter-widgets/base",
          "model_name": "LayoutModel",
          "model_module_version": "1.2.0",
          "state": {
            "_model_module": "@jupyter-widgets/base",
            "_model_module_version": "1.2.0",
            "_model_name": "LayoutModel",
            "_view_count": null,
            "_view_module": "@jupyter-widgets/base",
            "_view_module_version": "1.2.0",
            "_view_name": "LayoutView",
            "align_content": null,
            "align_items": null,
            "align_self": null,
            "border": null,
            "bottom": null,
            "display": null,
            "flex": null,
            "flex_flow": null,
            "grid_area": null,
            "grid_auto_columns": null,
            "grid_auto_flow": null,
            "grid_auto_rows": null,
            "grid_column": null,
            "grid_gap": null,
            "grid_row": null,
            "grid_template_areas": null,
            "grid_template_columns": null,
            "grid_template_rows": null,
            "height": null,
            "justify_content": null,
            "justify_items": null,
            "left": null,
            "margin": null,
            "max_height": null,
            "max_width": null,
            "min_height": null,
            "min_width": null,
            "object_fit": null,
            "object_position": null,
            "order": null,
            "overflow": null,
            "overflow_x": null,
            "overflow_y": null,
            "padding": null,
            "right": null,
            "top": null,
            "visibility": null,
            "width": null
          }
        },
        "1ee2909250674ea9807458044ed889c5": {
          "model_module": "@jupyter-widgets/controls",
          "model_name": "DescriptionStyleModel",
          "model_module_version": "1.5.0",
          "state": {
            "_model_module": "@jupyter-widgets/controls",
            "_model_module_version": "1.5.0",
            "_model_name": "DescriptionStyleModel",
            "_view_count": null,
            "_view_module": "@jupyter-widgets/base",
            "_view_module_version": "1.2.0",
            "_view_name": "StyleView",
            "description_width": ""
          }
        },
        "72b1a7e874304a9db987ed92c45d0c95": {
          "model_module": "@jupyter-widgets/controls",
          "model_name": "HBoxModel",
          "model_module_version": "1.5.0",
          "state": {
            "_dom_classes": [],
            "_model_module": "@jupyter-widgets/controls",
            "_model_module_version": "1.5.0",
            "_model_name": "HBoxModel",
            "_view_count": null,
            "_view_module": "@jupyter-widgets/controls",
            "_view_module_version": "1.5.0",
            "_view_name": "HBoxView",
            "box_style": "",
            "children": [
              "IPY_MODEL_1b6a4a7d3a134d99a2f765916026f8c3",
              "IPY_MODEL_7916c7bab4ed4d0f9266bcbd99dbcab9",
              "IPY_MODEL_dd8bdfd98de4427ab8d592e05cb4ce5d"
            ],
            "layout": "IPY_MODEL_1143a10b800c44869e5a9bb4d469f7d7"
          }
        },
        "1b6a4a7d3a134d99a2f765916026f8c3": {
          "model_module": "@jupyter-widgets/controls",
          "model_name": "HTMLModel",
          "model_module_version": "1.5.0",
          "state": {
            "_dom_classes": [],
            "_model_module": "@jupyter-widgets/controls",
            "_model_module_version": "1.5.0",
            "_model_name": "HTMLModel",
            "_view_count": null,
            "_view_module": "@jupyter-widgets/controls",
            "_view_module_version": "1.5.0",
            "_view_name": "HTMLView",
            "description": "",
            "description_tooltip": null,
            "layout": "IPY_MODEL_d69472855433486197f7e8c6c890acb3",
            "placeholder": "​",
            "style": "IPY_MODEL_ecb3b4fecc7d4f89a50826f4f4282bc7",
            "value": "Map: 100%"
          }
        },
        "7916c7bab4ed4d0f9266bcbd99dbcab9": {
          "model_module": "@jupyter-widgets/controls",
          "model_name": "FloatProgressModel",
          "model_module_version": "1.5.0",
          "state": {
            "_dom_classes": [],
            "_model_module": "@jupyter-widgets/controls",
            "_model_module_version": "1.5.0",
            "_model_name": "FloatProgressModel",
            "_view_count": null,
            "_view_module": "@jupyter-widgets/controls",
            "_view_module_version": "1.5.0",
            "_view_name": "ProgressView",
            "bar_style": "success",
            "description": "",
            "description_tooltip": null,
            "layout": "IPY_MODEL_ccf9cfedae3d422385ff18bc1e6d19fe",
            "max": 2,
            "min": 0,
            "orientation": "horizontal",
            "style": "IPY_MODEL_291cf2dd8f054eb1b38a59079c8312d6",
            "value": 2
          }
        },
        "dd8bdfd98de4427ab8d592e05cb4ce5d": {
          "model_module": "@jupyter-widgets/controls",
          "model_name": "HTMLModel",
          "model_module_version": "1.5.0",
          "state": {
            "_dom_classes": [],
            "_model_module": "@jupyter-widgets/controls",
            "_model_module_version": "1.5.0",
            "_model_name": "HTMLModel",
            "_view_count": null,
            "_view_module": "@jupyter-widgets/controls",
            "_view_module_version": "1.5.0",
            "_view_name": "HTMLView",
            "description": "",
            "description_tooltip": null,
            "layout": "IPY_MODEL_6d43788dd3104a7c9716eaf827ab907c",
            "placeholder": "​",
            "style": "IPY_MODEL_cbf284aedb7943a0b678778cef363d2a",
            "value": " 2/2 [00:00&lt;00:00, 109.96 examples/s]"
          }
        },
        "1143a10b800c44869e5a9bb4d469f7d7": {
          "model_module": "@jupyter-widgets/base",
          "model_name": "LayoutModel",
          "model_module_version": "1.2.0",
          "state": {
            "_model_module": "@jupyter-widgets/base",
            "_model_module_version": "1.2.0",
            "_model_name": "LayoutModel",
            "_view_count": null,
            "_view_module": "@jupyter-widgets/base",
            "_view_module_version": "1.2.0",
            "_view_name": "LayoutView",
            "align_content": null,
            "align_items": null,
            "align_self": null,
            "border": null,
            "bottom": null,
            "display": null,
            "flex": null,
            "flex_flow": null,
            "grid_area": null,
            "grid_auto_columns": null,
            "grid_auto_flow": null,
            "grid_auto_rows": null,
            "grid_column": null,
            "grid_gap": null,
            "grid_row": null,
            "grid_template_areas": null,
            "grid_template_columns": null,
            "grid_template_rows": null,
            "height": null,
            "justify_content": null,
            "justify_items": null,
            "left": null,
            "margin": null,
            "max_height": null,
            "max_width": null,
            "min_height": null,
            "min_width": null,
            "object_fit": null,
            "object_position": null,
            "order": null,
            "overflow": null,
            "overflow_x": null,
            "overflow_y": null,
            "padding": null,
            "right": null,
            "top": null,
            "visibility": null,
            "width": null
          }
        },
        "d69472855433486197f7e8c6c890acb3": {
          "model_module": "@jupyter-widgets/base",
          "model_name": "LayoutModel",
          "model_module_version": "1.2.0",
          "state": {
            "_model_module": "@jupyter-widgets/base",
            "_model_module_version": "1.2.0",
            "_model_name": "LayoutModel",
            "_view_count": null,
            "_view_module": "@jupyter-widgets/base",
            "_view_module_version": "1.2.0",
            "_view_name": "LayoutView",
            "align_content": null,
            "align_items": null,
            "align_self": null,
            "border": null,
            "bottom": null,
            "display": null,
            "flex": null,
            "flex_flow": null,
            "grid_area": null,
            "grid_auto_columns": null,
            "grid_auto_flow": null,
            "grid_auto_rows": null,
            "grid_column": null,
            "grid_gap": null,
            "grid_row": null,
            "grid_template_areas": null,
            "grid_template_columns": null,
            "grid_template_rows": null,
            "height": null,
            "justify_content": null,
            "justify_items": null,
            "left": null,
            "margin": null,
            "max_height": null,
            "max_width": null,
            "min_height": null,
            "min_width": null,
            "object_fit": null,
            "object_position": null,
            "order": null,
            "overflow": null,
            "overflow_x": null,
            "overflow_y": null,
            "padding": null,
            "right": null,
            "top": null,
            "visibility": null,
            "width": null
          }
        },
        "ecb3b4fecc7d4f89a50826f4f4282bc7": {
          "model_module": "@jupyter-widgets/controls",
          "model_name": "DescriptionStyleModel",
          "model_module_version": "1.5.0",
          "state": {
            "_model_module": "@jupyter-widgets/controls",
            "_model_module_version": "1.5.0",
            "_model_name": "DescriptionStyleModel",
            "_view_count": null,
            "_view_module": "@jupyter-widgets/base",
            "_view_module_version": "1.2.0",
            "_view_name": "StyleView",
            "description_width": ""
          }
        },
        "ccf9cfedae3d422385ff18bc1e6d19fe": {
          "model_module": "@jupyter-widgets/base",
          "model_name": "LayoutModel",
          "model_module_version": "1.2.0",
          "state": {
            "_model_module": "@jupyter-widgets/base",
            "_model_module_version": "1.2.0",
            "_model_name": "LayoutModel",
            "_view_count": null,
            "_view_module": "@jupyter-widgets/base",
            "_view_module_version": "1.2.0",
            "_view_name": "LayoutView",
            "align_content": null,
            "align_items": null,
            "align_self": null,
            "border": null,
            "bottom": null,
            "display": null,
            "flex": null,
            "flex_flow": null,
            "grid_area": null,
            "grid_auto_columns": null,
            "grid_auto_flow": null,
            "grid_auto_rows": null,
            "grid_column": null,
            "grid_gap": null,
            "grid_row": null,
            "grid_template_areas": null,
            "grid_template_columns": null,
            "grid_template_rows": null,
            "height": null,
            "justify_content": null,
            "justify_items": null,
            "left": null,
            "margin": null,
            "max_height": null,
            "max_width": null,
            "min_height": null,
            "min_width": null,
            "object_fit": null,
            "object_position": null,
            "order": null,
            "overflow": null,
            "overflow_x": null,
            "overflow_y": null,
            "padding": null,
            "right": null,
            "top": null,
            "visibility": null,
            "width": null
          }
        },
        "291cf2dd8f054eb1b38a59079c8312d6": {
          "model_module": "@jupyter-widgets/controls",
          "model_name": "ProgressStyleModel",
          "model_module_version": "1.5.0",
          "state": {
            "_model_module": "@jupyter-widgets/controls",
            "_model_module_version": "1.5.0",
            "_model_name": "ProgressStyleModel",
            "_view_count": null,
            "_view_module": "@jupyter-widgets/base",
            "_view_module_version": "1.2.0",
            "_view_name": "StyleView",
            "bar_color": null,
            "description_width": ""
          }
        },
        "6d43788dd3104a7c9716eaf827ab907c": {
          "model_module": "@jupyter-widgets/base",
          "model_name": "LayoutModel",
          "model_module_version": "1.2.0",
          "state": {
            "_model_module": "@jupyter-widgets/base",
            "_model_module_version": "1.2.0",
            "_model_name": "LayoutModel",
            "_view_count": null,
            "_view_module": "@jupyter-widgets/base",
            "_view_module_version": "1.2.0",
            "_view_name": "LayoutView",
            "align_content": null,
            "align_items": null,
            "align_self": null,
            "border": null,
            "bottom": null,
            "display": null,
            "flex": null,
            "flex_flow": null,
            "grid_area": null,
            "grid_auto_columns": null,
            "grid_auto_flow": null,
            "grid_auto_rows": null,
            "grid_column": null,
            "grid_gap": null,
            "grid_row": null,
            "grid_template_areas": null,
            "grid_template_columns": null,
            "grid_template_rows": null,
            "height": null,
            "justify_content": null,
            "justify_items": null,
            "left": null,
            "margin": null,
            "max_height": null,
            "max_width": null,
            "min_height": null,
            "min_width": null,
            "object_fit": null,
            "object_position": null,
            "order": null,
            "overflow": null,
            "overflow_x": null,
            "overflow_y": null,
            "padding": null,
            "right": null,
            "top": null,
            "visibility": null,
            "width": null
          }
        },
        "cbf284aedb7943a0b678778cef363d2a": {
          "model_module": "@jupyter-widgets/controls",
          "model_name": "DescriptionStyleModel",
          "model_module_version": "1.5.0",
          "state": {
            "_model_module": "@jupyter-widgets/controls",
            "_model_module_version": "1.5.0",
            "_model_name": "DescriptionStyleModel",
            "_view_count": null,
            "_view_module": "@jupyter-widgets/base",
            "_view_module_version": "1.2.0",
            "_view_name": "StyleView",
            "description_width": ""
          }
        }
      }
    }
  },
  "cells": [
    {
      "cell_type": "markdown",
      "metadata": {
        "id": "view-in-github",
        "colab_type": "text"
      },
      "source": [
        "<a href=\"https://colab.research.google.com/github/ruveydee/NLP-Profissional/blob/main/Pre_Trained_Model_(BERT)_Fine_Tuning_for_Multiclass.ipynb\" target=\"_parent\"><img src=\"https://colab.research.google.com/assets/colab-badge.svg\" alt=\"Open In Colab\"/></a>"
      ]
    },
    {
      "cell_type": "markdown",
      "source": [
        "## Installing Libraries\n",
        "\n"
      ],
      "metadata": {
        "id": "biZeX7ujTOhZ"
      }
    },
    {
      "cell_type": "code",
      "source": [
        "!pip install -q datasets"
      ],
      "metadata": {
        "id": "EAlvDHCxrqSf"
      },
      "execution_count": 2,
      "outputs": []
    },
    {
      "cell_type": "code",
      "source": [
        "!pip install openpyxl #for read excel files"
      ],
      "metadata": {
        "colab": {
          "base_uri": "https://localhost:8080/"
        },
        "id": "PHkaACRkwteq",
        "outputId": "7885abf9-f96b-44ff-9d47-f8664815b399"
      },
      "execution_count": 3,
      "outputs": [
        {
          "output_type": "stream",
          "name": "stdout",
          "text": [
            "Requirement already satisfied: openpyxl in /usr/local/lib/python3.10/dist-packages (3.1.5)\n",
            "Requirement already satisfied: et-xmlfile in /usr/local/lib/python3.10/dist-packages (from openpyxl) (1.1.0)\n"
          ]
        }
      ]
    },
    {
      "cell_type": "markdown",
      "source": [
        "## Using TPU Cores"
      ],
      "metadata": {
        "id": "KD-ZEPiFTffT"
      }
    },
    {
      "cell_type": "code",
      "source": [
        "#TPU kullanıyorsak tenserflowun bize sunduğu çekirdekleri tahsis etmek için aşağıdaki kod bloğunu çalıştırmamız gerekiyor."
      ],
      "metadata": {
        "id": "LU5XZzeceucH"
      },
      "execution_count": null,
      "outputs": []
    },
    {
      "cell_type": "code",
      "source": [
        "import tensorflow as tf\n",
        "print(\"Tensorflow version \" + tf.__version__)\n",
        "\n",
        "try:\n",
        "  tpu = tf.distribute.cluster_resolver.TPUClusterResolver()  # TPU detection\n",
        "  #TPUClusterResolver, TPU'ların bulunduğu kümeyi (cluster) bulmak için kullanılır.\n",
        "  print(f'Running on a TPU w/{tpu.num_accelerators()[\"TPU\"]} cores')\n",
        "except ValueError:\n",
        "  raise BaseException('ERROR: Not connected to a TPU runtime; please see the previous cell in this notebook for instructions!')\n",
        "\n",
        "tf.config.experimental_connect_to_cluster(tpu)\n",
        "#Bu kod satırı, TensorFlow'u daha önce oluşturulan tpu nesnesi ile belirtilen TPU kümesine bağlar.\n",
        "tf.tpu.experimental.initialize_tpu_system(tpu)\n",
        "#Bu adım, TPU sistemini başlatır ve kullanıma hazır hale getirir.\n",
        "tpu_strategy = tf.distribute.TPUStrategy(tpu)\n",
        "#Modeli birden fazla TPU çekirdeğine dağıtarak eğitimi hızlandırır."
      ],
      "metadata": {
        "colab": {
          "base_uri": "https://localhost:8080/"
        },
        "id": "vtwMnpAVGSq7",
        "outputId": "e51988c2-9551-4d51-8373-987ae6ad1f6e"
      },
      "execution_count": 4,
      "outputs": [
        {
          "output_type": "stream",
          "name": "stdout",
          "text": [
            "Tensorflow version 2.15.0\n",
            "Running on a TPU w/8 cores\n"
          ]
        }
      ]
    },
    {
      "cell_type": "code",
      "source": [
        "from google.colab import drive\n",
        "drive.mount('/content/drive')"
      ],
      "metadata": {
        "colab": {
          "base_uri": "https://localhost:8080/"
        },
        "id": "7Xm5gGNm9zbj",
        "outputId": "5875985e-9733-4594-eda8-9482e5cf0c28"
      },
      "execution_count": 5,
      "outputs": [
        {
          "output_type": "stream",
          "name": "stdout",
          "text": [
            "Drive already mounted at /content/drive; to attempt to forcibly remount, call drive.mount(\"/content/drive\", force_remount=True).\n"
          ]
        }
      ]
    },
    {
      "cell_type": "markdown",
      "source": [
        "## Reading Data"
      ],
      "metadata": {
        "id": "RSArY1mxT77w"
      }
    },
    {
      "cell_type": "code",
      "source": [
        "import numpy as np\n",
        "import pandas as pd\n",
        "#Warning kod bloğunu kullanmak tavsiye edilmiyor. Sürekli güncelleme geldiği için uyarılarda bunları görüyoruz.\n",
        "import warnings\n",
        "warnings.filterwarnings('ignore')"
      ],
      "metadata": {
        "id": "JKrlZV5P-r00"
      },
      "execution_count": 6,
      "outputs": []
    },
    {
      "cell_type": "code",
      "source": [
        "df = pd.read_excel('/content/drive/MyDrive/NLP-Profissionals/trt_11_category.xlsx', engine='openpyxl')\n",
        "df.head()\n",
        "df"
      ],
      "metadata": {
        "colab": {
          "base_uri": "https://localhost:8080/",
          "height": 424
        },
        "id": "gxFM1DebdqkN",
        "outputId": "01e7ac1e-51b4-4e4a-b760-28f687d5d03b"
      },
      "execution_count": 7,
      "outputs": [
        {
          "output_type": "execute_result",
          "data": {
            "text/plain": [
              "       Unnamed: 0.1  Unnamed: 0  \\\n",
              "0                 0           0   \n",
              "1                 1           1   \n",
              "2                 2           2   \n",
              "3                 3           3   \n",
              "4                 4           4   \n",
              "...             ...         ...   \n",
              "35195          3195        3195   \n",
              "35196          3196        3196   \n",
              "35197          3197        3197   \n",
              "35198          3198        3198   \n",
              "35199          3199        3199   \n",
              "\n",
              "                                                   title  \\\n",
              "0      BTK'nın sosyal ağ sağlayıcılara tanıdığı süre ...   \n",
              "1      Samsung Yönetim Kurulu Başkanı Lee hayatını ka...   \n",
              "2      Yerli ve milli 5G şebekesi hedefi: Radyolink b...   \n",
              "3      Elektrik direğindeki kaçağı haber veren akıllı...   \n",
              "4      Sosyal medya sitelerinin temsilci bildirmesi i...   \n",
              "...                                                  ...   \n",
              "35195  Kahramanlığıyla iz bırakan Eren Bülbül'ün şeha...   \n",
              "35196  Kurban keserken nelere dikkat edilmeli? Kurban...   \n",
              "35197  Sanatsever kardeşlerden Fatsa'da nostaljik fil...   \n",
              "35198  Yaralı kaplumbağalar rehabilitasyon merkezinde...   \n",
              "35199  Anafartalar Zaferi'nin 104. yılında kahramanla...   \n",
              "\n",
              "                                                 context         category  \n",
              "0      Sosyal medya devlerinin temsilci bildirmesi iç...  bilim_teknoloji  \n",
              "1      Lee'nin oğlu ve Samsung'un fiili yöneticisi Le...  bilim_teknoloji  \n",
              "2      Uçtan Uca Yerli ve Milli 5G Haberleşme Şebekes...  bilim_teknoloji  \n",
              "3      Enerjisa'dan yapılan açıklamaya göre, söz konu...  bilim_teknoloji  \n",
              "4      Kamuoyunda \"Sosyal Medya Yasası\" olarak biline...  bilim_teknoloji  \n",
              "...                                                  ...              ...  \n",
              "35195  Eren Bülbül, Maçkalı Ayşe ve Hasan Bülbül çift...            yasam  \n",
              "35196  Kurban Bayramı, Müslümanlar tarafından Hicri T...            yasam  \n",
              "35197  Tiyatro ve sinemaya gönül veren Ali Can ve İlk...            yasam  \n",
              "35198  Oltalar, balıkçı ağları, plastik atıklar... De...            yasam  \n",
              "35199  Kurmay Albay Mustafa Kemal komutasındaki Mehme...            yasam  \n",
              "\n",
              "[35200 rows x 5 columns]"
            ],
            "text/html": [
              "\n",
              "  <div id=\"df-0bba5190-fdfb-4dff-ab4d-951719252157\" class=\"colab-df-container\">\n",
              "    <div>\n",
              "<style scoped>\n",
              "    .dataframe tbody tr th:only-of-type {\n",
              "        vertical-align: middle;\n",
              "    }\n",
              "\n",
              "    .dataframe tbody tr th {\n",
              "        vertical-align: top;\n",
              "    }\n",
              "\n",
              "    .dataframe thead th {\n",
              "        text-align: right;\n",
              "    }\n",
              "</style>\n",
              "<table border=\"1\" class=\"dataframe\">\n",
              "  <thead>\n",
              "    <tr style=\"text-align: right;\">\n",
              "      <th></th>\n",
              "      <th>Unnamed: 0.1</th>\n",
              "      <th>Unnamed: 0</th>\n",
              "      <th>title</th>\n",
              "      <th>context</th>\n",
              "      <th>category</th>\n",
              "    </tr>\n",
              "  </thead>\n",
              "  <tbody>\n",
              "    <tr>\n",
              "      <th>0</th>\n",
              "      <td>0</td>\n",
              "      <td>0</td>\n",
              "      <td>BTK'nın sosyal ağ sağlayıcılara tanıdığı süre ...</td>\n",
              "      <td>Sosyal medya devlerinin temsilci bildirmesi iç...</td>\n",
              "      <td>bilim_teknoloji</td>\n",
              "    </tr>\n",
              "    <tr>\n",
              "      <th>1</th>\n",
              "      <td>1</td>\n",
              "      <td>1</td>\n",
              "      <td>Samsung Yönetim Kurulu Başkanı Lee hayatını ka...</td>\n",
              "      <td>Lee'nin oğlu ve Samsung'un fiili yöneticisi Le...</td>\n",
              "      <td>bilim_teknoloji</td>\n",
              "    </tr>\n",
              "    <tr>\n",
              "      <th>2</th>\n",
              "      <td>2</td>\n",
              "      <td>2</td>\n",
              "      <td>Yerli ve milli 5G şebekesi hedefi: Radyolink b...</td>\n",
              "      <td>Uçtan Uca Yerli ve Milli 5G Haberleşme Şebekes...</td>\n",
              "      <td>bilim_teknoloji</td>\n",
              "    </tr>\n",
              "    <tr>\n",
              "      <th>3</th>\n",
              "      <td>3</td>\n",
              "      <td>3</td>\n",
              "      <td>Elektrik direğindeki kaçağı haber veren akıllı...</td>\n",
              "      <td>Enerjisa'dan yapılan açıklamaya göre, söz konu...</td>\n",
              "      <td>bilim_teknoloji</td>\n",
              "    </tr>\n",
              "    <tr>\n",
              "      <th>4</th>\n",
              "      <td>4</td>\n",
              "      <td>4</td>\n",
              "      <td>Sosyal medya sitelerinin temsilci bildirmesi i...</td>\n",
              "      <td>Kamuoyunda \"Sosyal Medya Yasası\" olarak biline...</td>\n",
              "      <td>bilim_teknoloji</td>\n",
              "    </tr>\n",
              "    <tr>\n",
              "      <th>...</th>\n",
              "      <td>...</td>\n",
              "      <td>...</td>\n",
              "      <td>...</td>\n",
              "      <td>...</td>\n",
              "      <td>...</td>\n",
              "    </tr>\n",
              "    <tr>\n",
              "      <th>35195</th>\n",
              "      <td>3195</td>\n",
              "      <td>3195</td>\n",
              "      <td>Kahramanlığıyla iz bırakan Eren Bülbül'ün şeha...</td>\n",
              "      <td>Eren Bülbül, Maçkalı Ayşe ve Hasan Bülbül çift...</td>\n",
              "      <td>yasam</td>\n",
              "    </tr>\n",
              "    <tr>\n",
              "      <th>35196</th>\n",
              "      <td>3196</td>\n",
              "      <td>3196</td>\n",
              "      <td>Kurban keserken nelere dikkat edilmeli? Kurban...</td>\n",
              "      <td>Kurban Bayramı, Müslümanlar tarafından Hicri T...</td>\n",
              "      <td>yasam</td>\n",
              "    </tr>\n",
              "    <tr>\n",
              "      <th>35197</th>\n",
              "      <td>3197</td>\n",
              "      <td>3197</td>\n",
              "      <td>Sanatsever kardeşlerden Fatsa'da nostaljik fil...</td>\n",
              "      <td>Tiyatro ve sinemaya gönül veren Ali Can ve İlk...</td>\n",
              "      <td>yasam</td>\n",
              "    </tr>\n",
              "    <tr>\n",
              "      <th>35198</th>\n",
              "      <td>3198</td>\n",
              "      <td>3198</td>\n",
              "      <td>Yaralı kaplumbağalar rehabilitasyon merkezinde...</td>\n",
              "      <td>Oltalar, balıkçı ağları, plastik atıklar... De...</td>\n",
              "      <td>yasam</td>\n",
              "    </tr>\n",
              "    <tr>\n",
              "      <th>35199</th>\n",
              "      <td>3199</td>\n",
              "      <td>3199</td>\n",
              "      <td>Anafartalar Zaferi'nin 104. yılında kahramanla...</td>\n",
              "      <td>Kurmay Albay Mustafa Kemal komutasındaki Mehme...</td>\n",
              "      <td>yasam</td>\n",
              "    </tr>\n",
              "  </tbody>\n",
              "</table>\n",
              "<p>35200 rows × 5 columns</p>\n",
              "</div>\n",
              "    <div class=\"colab-df-buttons\">\n",
              "\n",
              "  <div class=\"colab-df-container\">\n",
              "    <button class=\"colab-df-convert\" onclick=\"convertToInteractive('df-0bba5190-fdfb-4dff-ab4d-951719252157')\"\n",
              "            title=\"Convert this dataframe to an interactive table.\"\n",
              "            style=\"display:none;\">\n",
              "\n",
              "  <svg xmlns=\"http://www.w3.org/2000/svg\" height=\"24px\" viewBox=\"0 -960 960 960\">\n",
              "    <path d=\"M120-120v-720h720v720H120Zm60-500h600v-160H180v160Zm220 220h160v-160H400v160Zm0 220h160v-160H400v160ZM180-400h160v-160H180v160Zm440 0h160v-160H620v160ZM180-180h160v-160H180v160Zm440 0h160v-160H620v160Z\"/>\n",
              "  </svg>\n",
              "    </button>\n",
              "\n",
              "  <style>\n",
              "    .colab-df-container {\n",
              "      display:flex;\n",
              "      gap: 12px;\n",
              "    }\n",
              "\n",
              "    .colab-df-convert {\n",
              "      background-color: #E8F0FE;\n",
              "      border: none;\n",
              "      border-radius: 50%;\n",
              "      cursor: pointer;\n",
              "      display: none;\n",
              "      fill: #1967D2;\n",
              "      height: 32px;\n",
              "      padding: 0 0 0 0;\n",
              "      width: 32px;\n",
              "    }\n",
              "\n",
              "    .colab-df-convert:hover {\n",
              "      background-color: #E2EBFA;\n",
              "      box-shadow: 0px 1px 2px rgba(60, 64, 67, 0.3), 0px 1px 3px 1px rgba(60, 64, 67, 0.15);\n",
              "      fill: #174EA6;\n",
              "    }\n",
              "\n",
              "    .colab-df-buttons div {\n",
              "      margin-bottom: 4px;\n",
              "    }\n",
              "\n",
              "    [theme=dark] .colab-df-convert {\n",
              "      background-color: #3B4455;\n",
              "      fill: #D2E3FC;\n",
              "    }\n",
              "\n",
              "    [theme=dark] .colab-df-convert:hover {\n",
              "      background-color: #434B5C;\n",
              "      box-shadow: 0px 1px 3px 1px rgba(0, 0, 0, 0.15);\n",
              "      filter: drop-shadow(0px 1px 2px rgba(0, 0, 0, 0.3));\n",
              "      fill: #FFFFFF;\n",
              "    }\n",
              "  </style>\n",
              "\n",
              "    <script>\n",
              "      const buttonEl =\n",
              "        document.querySelector('#df-0bba5190-fdfb-4dff-ab4d-951719252157 button.colab-df-convert');\n",
              "      buttonEl.style.display =\n",
              "        google.colab.kernel.accessAllowed ? 'block' : 'none';\n",
              "\n",
              "      async function convertToInteractive(key) {\n",
              "        const element = document.querySelector('#df-0bba5190-fdfb-4dff-ab4d-951719252157');\n",
              "        const dataTable =\n",
              "          await google.colab.kernel.invokeFunction('convertToInteractive',\n",
              "                                                    [key], {});\n",
              "        if (!dataTable) return;\n",
              "\n",
              "        const docLinkHtml = 'Like what you see? Visit the ' +\n",
              "          '<a target=\"_blank\" href=https://colab.research.google.com/notebooks/data_table.ipynb>data table notebook</a>'\n",
              "          + ' to learn more about interactive tables.';\n",
              "        element.innerHTML = '';\n",
              "        dataTable['output_type'] = 'display_data';\n",
              "        await google.colab.output.renderOutput(dataTable, element);\n",
              "        const docLink = document.createElement('div');\n",
              "        docLink.innerHTML = docLinkHtml;\n",
              "        element.appendChild(docLink);\n",
              "      }\n",
              "    </script>\n",
              "  </div>\n",
              "\n",
              "\n",
              "<div id=\"df-44928278-463c-48c2-9d73-52352eeb821f\">\n",
              "  <button class=\"colab-df-quickchart\" onclick=\"quickchart('df-44928278-463c-48c2-9d73-52352eeb821f')\"\n",
              "            title=\"Suggest charts\"\n",
              "            style=\"display:none;\">\n",
              "\n",
              "<svg xmlns=\"http://www.w3.org/2000/svg\" height=\"24px\"viewBox=\"0 0 24 24\"\n",
              "     width=\"24px\">\n",
              "    <g>\n",
              "        <path d=\"M19 3H5c-1.1 0-2 .9-2 2v14c0 1.1.9 2 2 2h14c1.1 0 2-.9 2-2V5c0-1.1-.9-2-2-2zM9 17H7v-7h2v7zm4 0h-2V7h2v10zm4 0h-2v-4h2v4z\"/>\n",
              "    </g>\n",
              "</svg>\n",
              "  </button>\n",
              "\n",
              "<style>\n",
              "  .colab-df-quickchart {\n",
              "      --bg-color: #E8F0FE;\n",
              "      --fill-color: #1967D2;\n",
              "      --hover-bg-color: #E2EBFA;\n",
              "      --hover-fill-color: #174EA6;\n",
              "      --disabled-fill-color: #AAA;\n",
              "      --disabled-bg-color: #DDD;\n",
              "  }\n",
              "\n",
              "  [theme=dark] .colab-df-quickchart {\n",
              "      --bg-color: #3B4455;\n",
              "      --fill-color: #D2E3FC;\n",
              "      --hover-bg-color: #434B5C;\n",
              "      --hover-fill-color: #FFFFFF;\n",
              "      --disabled-bg-color: #3B4455;\n",
              "      --disabled-fill-color: #666;\n",
              "  }\n",
              "\n",
              "  .colab-df-quickchart {\n",
              "    background-color: var(--bg-color);\n",
              "    border: none;\n",
              "    border-radius: 50%;\n",
              "    cursor: pointer;\n",
              "    display: none;\n",
              "    fill: var(--fill-color);\n",
              "    height: 32px;\n",
              "    padding: 0;\n",
              "    width: 32px;\n",
              "  }\n",
              "\n",
              "  .colab-df-quickchart:hover {\n",
              "    background-color: var(--hover-bg-color);\n",
              "    box-shadow: 0 1px 2px rgba(60, 64, 67, 0.3), 0 1px 3px 1px rgba(60, 64, 67, 0.15);\n",
              "    fill: var(--button-hover-fill-color);\n",
              "  }\n",
              "\n",
              "  .colab-df-quickchart-complete:disabled,\n",
              "  .colab-df-quickchart-complete:disabled:hover {\n",
              "    background-color: var(--disabled-bg-color);\n",
              "    fill: var(--disabled-fill-color);\n",
              "    box-shadow: none;\n",
              "  }\n",
              "\n",
              "  .colab-df-spinner {\n",
              "    border: 2px solid var(--fill-color);\n",
              "    border-color: transparent;\n",
              "    border-bottom-color: var(--fill-color);\n",
              "    animation:\n",
              "      spin 1s steps(1) infinite;\n",
              "  }\n",
              "\n",
              "  @keyframes spin {\n",
              "    0% {\n",
              "      border-color: transparent;\n",
              "      border-bottom-color: var(--fill-color);\n",
              "      border-left-color: var(--fill-color);\n",
              "    }\n",
              "    20% {\n",
              "      border-color: transparent;\n",
              "      border-left-color: var(--fill-color);\n",
              "      border-top-color: var(--fill-color);\n",
              "    }\n",
              "    30% {\n",
              "      border-color: transparent;\n",
              "      border-left-color: var(--fill-color);\n",
              "      border-top-color: var(--fill-color);\n",
              "      border-right-color: var(--fill-color);\n",
              "    }\n",
              "    40% {\n",
              "      border-color: transparent;\n",
              "      border-right-color: var(--fill-color);\n",
              "      border-top-color: var(--fill-color);\n",
              "    }\n",
              "    60% {\n",
              "      border-color: transparent;\n",
              "      border-right-color: var(--fill-color);\n",
              "    }\n",
              "    80% {\n",
              "      border-color: transparent;\n",
              "      border-right-color: var(--fill-color);\n",
              "      border-bottom-color: var(--fill-color);\n",
              "    }\n",
              "    90% {\n",
              "      border-color: transparent;\n",
              "      border-bottom-color: var(--fill-color);\n",
              "    }\n",
              "  }\n",
              "</style>\n",
              "\n",
              "  <script>\n",
              "    async function quickchart(key) {\n",
              "      const quickchartButtonEl =\n",
              "        document.querySelector('#' + key + ' button');\n",
              "      quickchartButtonEl.disabled = true;  // To prevent multiple clicks.\n",
              "      quickchartButtonEl.classList.add('colab-df-spinner');\n",
              "      try {\n",
              "        const charts = await google.colab.kernel.invokeFunction(\n",
              "            'suggestCharts', [key], {});\n",
              "      } catch (error) {\n",
              "        console.error('Error during call to suggestCharts:', error);\n",
              "      }\n",
              "      quickchartButtonEl.classList.remove('colab-df-spinner');\n",
              "      quickchartButtonEl.classList.add('colab-df-quickchart-complete');\n",
              "    }\n",
              "    (() => {\n",
              "      let quickchartButtonEl =\n",
              "        document.querySelector('#df-44928278-463c-48c2-9d73-52352eeb821f button');\n",
              "      quickchartButtonEl.style.display =\n",
              "        google.colab.kernel.accessAllowed ? 'block' : 'none';\n",
              "    })();\n",
              "  </script>\n",
              "</div>\n",
              "\n",
              "  <div id=\"id_795e36f2-5af3-4e84-abbe-f68912c77aa5\">\n",
              "    <style>\n",
              "      .colab-df-generate {\n",
              "        background-color: #E8F0FE;\n",
              "        border: none;\n",
              "        border-radius: 50%;\n",
              "        cursor: pointer;\n",
              "        display: none;\n",
              "        fill: #1967D2;\n",
              "        height: 32px;\n",
              "        padding: 0 0 0 0;\n",
              "        width: 32px;\n",
              "      }\n",
              "\n",
              "      .colab-df-generate:hover {\n",
              "        background-color: #E2EBFA;\n",
              "        box-shadow: 0px 1px 2px rgba(60, 64, 67, 0.3), 0px 1px 3px 1px rgba(60, 64, 67, 0.15);\n",
              "        fill: #174EA6;\n",
              "      }\n",
              "\n",
              "      [theme=dark] .colab-df-generate {\n",
              "        background-color: #3B4455;\n",
              "        fill: #D2E3FC;\n",
              "      }\n",
              "\n",
              "      [theme=dark] .colab-df-generate:hover {\n",
              "        background-color: #434B5C;\n",
              "        box-shadow: 0px 1px 3px 1px rgba(0, 0, 0, 0.15);\n",
              "        filter: drop-shadow(0px 1px 2px rgba(0, 0, 0, 0.3));\n",
              "        fill: #FFFFFF;\n",
              "      }\n",
              "    </style>\n",
              "    <button class=\"colab-df-generate\" onclick=\"generateWithVariable('df')\"\n",
              "            title=\"Generate code using this dataframe.\"\n",
              "            style=\"display:none;\">\n",
              "\n",
              "  <svg xmlns=\"http://www.w3.org/2000/svg\" height=\"24px\"viewBox=\"0 0 24 24\"\n",
              "       width=\"24px\">\n",
              "    <path d=\"M7,19H8.4L18.45,9,17,7.55,7,17.6ZM5,21V16.75L18.45,3.32a2,2,0,0,1,2.83,0l1.4,1.43a1.91,1.91,0,0,1,.58,1.4,1.91,1.91,0,0,1-.58,1.4L9.25,21ZM18.45,9,17,7.55Zm-12,3A5.31,5.31,0,0,0,4.9,8.1,5.31,5.31,0,0,0,1,6.5,5.31,5.31,0,0,0,4.9,4.9,5.31,5.31,0,0,0,6.5,1,5.31,5.31,0,0,0,8.1,4.9,5.31,5.31,0,0,0,12,6.5,5.46,5.46,0,0,0,6.5,12Z\"/>\n",
              "  </svg>\n",
              "    </button>\n",
              "    <script>\n",
              "      (() => {\n",
              "      const buttonEl =\n",
              "        document.querySelector('#id_795e36f2-5af3-4e84-abbe-f68912c77aa5 button.colab-df-generate');\n",
              "      buttonEl.style.display =\n",
              "        google.colab.kernel.accessAllowed ? 'block' : 'none';\n",
              "\n",
              "      buttonEl.onclick = () => {\n",
              "        google.colab.notebook.generateWithVariable('df');\n",
              "      }\n",
              "      })();\n",
              "    </script>\n",
              "  </div>\n",
              "\n",
              "    </div>\n",
              "  </div>\n"
            ],
            "application/vnd.google.colaboratory.intrinsic+json": {
              "type": "dataframe",
              "variable_name": "df",
              "summary": "{\n  \"name\": \"df\",\n  \"rows\": 35200,\n  \"fields\": [\n    {\n      \"column\": \"Unnamed: 0.1\",\n      \"properties\": {\n        \"dtype\": \"number\",\n        \"std\": 923,\n        \"min\": 0,\n        \"max\": 3199,\n        \"num_unique_values\": 3200,\n        \"samples\": [\n          2384,\n          2538,\n          2176\n        ],\n        \"semantic_type\": \"\",\n        \"description\": \"\"\n      }\n    },\n    {\n      \"column\": \"Unnamed: 0\",\n      \"properties\": {\n        \"dtype\": \"number\",\n        \"std\": 923,\n        \"min\": 0,\n        \"max\": 3199,\n        \"num_unique_values\": 3200,\n        \"samples\": [\n          2384,\n          2538,\n          2176\n        ],\n        \"semantic_type\": \"\",\n        \"description\": \"\"\n      }\n    },\n    {\n      \"column\": \"title\",\n      \"properties\": {\n        \"dtype\": \"string\",\n        \"num_unique_values\": 32803,\n        \"samples\": [\n          \"Kulland\\u0131\\u011f\\u0131 halk otob\\u00fcs\\u00fcn\\u00fc oyuncak\\u00e7\\u0131ya \\u00e7evirdi\",\n          \"Sakarya merkezli FET\\u00d6 operasyonunda 25 \\u015f\\u00fcpheli g\\u00f6zalt\\u0131na al\\u0131nd\\u0131\",\n          \"Arapgirli \\u00e7ocuklar mutlu bir g\\u00fcn ya\\u015fad\\u0131\"\n        ],\n        \"semantic_type\": \"\",\n        \"description\": \"\"\n      }\n    },\n    {\n      \"column\": \"context\",\n      \"properties\": {\n        \"dtype\": \"string\",\n        \"num_unique_values\": 33359,\n        \"samples\": [\n          \"Sosyolog ve siyaset bilimci Prof. Dr. \\u015eerif Mardin (90), hayat\\u0131n\\u0131 kaybetti. Prof. Dr. Mardin, \\u0130stanbul'da bir s\\u00fcredir tedavi g\\u00f6rd\\u00fc\\u011f\\u00fc \\u00f6zel bir hastanede ak\\u015fam saatlerinde vefat etti. Mardin'in cenazesinin yar\\u0131n Yenik\\u00f6y Camisi'nde \\u00f6\\u011fle vakti k\\u0131l\\u0131nacak cenaze namaz\\u0131n\\u0131n ard\\u0131ndan topra\\u011fa verilece\\u011fi \\u00f6\\u011frenildi. Prof. Dr. \\u015eerif Mardin kimdir? 1927 y\\u0131l\\u0131nda \\u0130stanbul'da do\\u011fdu. Galatasaray Lisesi'nde ba\\u015flad\\u0131\\u011f\\u0131 orta \\u00f6\\u011frenimini ABD'de tamamlad\\u0131. Stanford \\u00dcniversitesi Siyasal Bilimler B\\u00f6l\\u00fcm\\u00fc mezuniyetinin ard\\u0131ndan lisans\\u00fcst\\u00fc e\\u011fitimini John Hopkins \\u00dcniversitesi\\u2019nde yapt\\u0131. 1954'te Siyasal Bilgiler Fak\\u00fcltesi\\u2019ne asistan olarak giren Mardin, doktoras\\u0131n\\u0131 Stanford \\u00dcniversitesi'nde tamamlad\\u0131. 1964'te do\\u00e7ent, 1969'da ise profes\\u00f6r oldu. Ankara \\u00dcniversitesi'nde 13 y\\u0131l hocal\\u0131k yapt\\u0131ktan sonra Bo\\u011fazi\\u00e7i \\u00dcniversitesi'nde \\u0130ktisadi \\u0130dari Bilimler Fak\\u00fcltesi'nin kurucu Dekanl\\u0131\\u011f\\u0131n\\u0131 ve Sosyoloji B\\u00f6l\\u00fcm\\u00fc Ba\\u015fkanl\\u0131\\u011f\\u0131 yapt\\u0131. Daha sonra yakla\\u015f\\u0131k 13 sene Washington'daki American University'de \\u0130slam Ara\\u015ft\\u0131rmalar\\u0131 Merkezi Ba\\u015fkanl\\u0131\\u011f\\u0131n\\u0131 y\\u00fcr\\u00fctt\\u00fc. Ard\\u0131ndan T\\u00fcrkiye'ye gelerek \\u00e7al\\u0131\\u015fmalar\\u0131n\\u0131 Sabanc\\u0131 \\u00dcniversitesi'nde s\\u00fcrd\\u00fcrd\\u00fc. Prof. Dr. \\u015eerif Mardin, en son \\u0130stanbul \\u015eehir \\u00dcniversitesi \\u0130nsan ve Toplum Bilimleri Fak\\u00fcltesi \\u00f6\\u011fretim \\u00fcyesi olarak g\\u00f6rev yap\\u0131yordu. Bakan Kurtulmu\\u015f, Mardin'in vefat\\u0131 nedeniyle mesaj yay\\u0131mlad\\u0131 K\\u00fclt\\u00fcr ve Turizm Bakan\\u0131 Numan Kurtulmu\\u015f, \\u0130stanbul'da tedavi g\\u00f6rd\\u00fc\\u011f\\u00fc hastanede vefat eden Prof. Dr. \\u015eerif Mardin'in eserleriyle ve akademi d\\u00fcnyas\\u0131na yapt\\u0131\\u011f\\u0131 hizmetlerle her daim sayg\\u0131yla yad edilece\\u011fini bildirdi. Kurtulmu\\u015f, sosyolog ve siyaset bilimci Prof. Dr. Mardin'in vefat\\u0131 nedeniyle mesaj yay\\u0131mlad\\u0131. Mardin'in siyaset bilimine ve fikir hayat\\u0131na \\u00f6nemli katk\\u0131larda bulunmu\\u015f, uluslararas\\u0131 alanda \\u00e7ok de\\u011ferli \\u00e7al\\u0131\\u015fmalara imza atm\\u0131\\u015f bir bilim insan\\u0131 oldu\\u011funu belirten Kurtulmu\\u015f, \\\"Eserleri ve akademi d\\u00fcnyam\\u0131za yapt\\u0131\\u011f\\u0131 hizmetlerle her daim sayg\\u0131yla yad edilecek olan Mardin'e Allah'tan rahmet, ailesine, yak\\u0131nlar\\u0131na ve sevenlerine ba\\u015fsa\\u011fl\\u0131\\u011f\\u0131 diliyorum. Mekan\\u0131 cennet olsun.\\\" ifadelerini kulland\\u0131.\",\n          \"Dar\\u00fc\\u015f\\u015fafaka E\\u011fitim Kurumlar\\u0131'ndan yap\\u0131lan a\\u00e7\\u0131klamaya g\\u00f6re, kurumun 2020 y\\u0131l\\u0131 giri\\u015f s\\u0131nav\\u0131, d\\u00fcnyayla birlikte T\\u00fcrkiye\\u2019yi de etkisi alt\\u0131na alan koronavir\\u00fcs salg\\u0131n\\u0131 nedeniyle ertelendi. Y\\u0131l ba\\u015f\\u0131nda a\\u00e7\\u0131klanan takvimde 31 May\\u0131s\\u2019ta yap\\u0131laca\\u011f\\u0131 duyurulan s\\u0131nav\\u0131n yeni tarihi 28 Haziran 2020 olarak a\\u00e7\\u0131kland\\u0131. S\\u00f6z konusu karar, Dar\\u00fc\\u015f\\u015fafaka Cemiyeti Y\\u00f6netim Kurulu taraf\\u0131ndan Milli E\\u011fitim Bakanl\\u0131\\u011f\\u0131\\u2019n\\u0131n g\\u00f6r\\u00fc\\u015f ve y\\u00f6nlendirmeleri do\\u011frultusunda al\\u0131nd\\u0131. T\\u00fcrkiye \\u00e7ap\\u0131nda 10 bine yak\\u0131n \\u00f6\\u011frencinin kat\\u0131labildi\\u011fi; babas\\u0131 veya annesi hayatta olmayan, maddi olanaklar\\u0131 yetersiz, ba\\u015far\\u0131l\\u0131 \\u00e7ocuklara paras\\u0131z, yat\\u0131l\\u0131 ve nitelikli e\\u011fitim f\\u0131rsat\\u0131 tan\\u0131yan Dar\\u00fc\\u015f\\u015fafaka E\\u011fitim Kurumlar\\u0131\\u2019n\\u0131n 2020 y\\u0131l\\u0131 s\\u0131nav\\u0131, bu kapsamda 28 Haziran 2020 Pazar g\\u00fcn\\u00fc saat 10.00'da T\\u00fcrkiye'nin 24 ilinde d\\u00fczenlenecek. S\\u0131nav hangi \\u015fehirlerde d\\u00fczenlenecek? S\\u0131nav; Adana, A\\u011fr\\u0131, Ankara, Antalya, Bal\\u0131kesir, Bursa, Denizli, Diyarbak\\u0131r, Erzurum, Gaziantep, \\u0130stanbul, \\u0130zmir, Karab\\u00fck, Kayseri, Konya, Malatya, Mardin, Mersin, Samsun, Sivas, \\u015eanl\\u0131urfa, Tekirda\\u011f, Trabzon ve Van\\u2019da ger\\u00e7ekle\\u015ftirilecek. S\\u0131nava T\\u00fcrkiye\\u2019nin her ilinden ba\\u015fvuru kabul edilecek. Bu 24 il d\\u0131\\u015f\\u0131ndan s\\u0131nava kat\\u0131lacak \\u00f6\\u011frenciler ve velilerinin ula\\u015f\\u0131m masraflar\\u0131n\\u0131 kar\\u015f\\u0131layamamas\\u0131 ve bu bedeli Dar\\u00fc\\u015f\\u015fafaka\\u2019dan talep etmeleri durumunda, bu ki\\u015filerin en yak\\u0131n s\\u0131nav merkezine gelmek i\\u00e7in yapacaklar\\u0131 ula\\u015f\\u0131m masraf\\u0131 da Dar\\u00fc\\u015f\\u015fafaka taraf\\u0131ndan kar\\u015f\\u0131lanabilecek. Bununla birlikte, t\\u00fcm s\\u0131nav merkezlerinde, Milli E\\u011fitim Bakanl\\u0131\\u011f\\u0131 ve ilgili sa\\u011fl\\u0131k birimlerinin y\\u00f6nlendirmeleri do\\u011frultusunda gerekli t\\u00fcm tedbirler al\\u0131nacak; s\\u0131nav d\\u00fczeni sosyal mesafe kural\\u0131na g\\u00f6re tasarlanacak. Ba\\u015fvurular ba\\u015flad\\u0131, elden veya posta yoluyla ula\\u015ft\\u0131r\\u0131lmas\\u0131 gerekiyor S\\u0131nava kat\\u0131lmak isteyen adaylar\\u0131n ba\\u015fvuru evraklar\\u0131n\\u0131n, Dar\\u00fc\\u015f\\u015fafaka Ortaokulu\\u2019na 22 Haziran 2020 Pazartesi g\\u00fcn\\u00fcne kadar elden veya posta yoluyla ula\\u015ft\\u0131r\\u0131lmas\\u0131 gerekiyor. S\\u0131navda ba\\u015far\\u0131l\\u0131 olan \\u00f6\\u011frenciler, sa\\u011fl\\u0131k kurulu kontrol\\u00fc ve mali durum ara\\u015ft\\u0131rmas\\u0131n\\u0131n ard\\u0131ndan ortaokuldan \\u00fcniversiteye kadar \\u00fccretsiz nitelikli e\\u011fitim alma hakk\\u0131 elde edecek. Bine yak\\u0131n \\u00f6\\u011frenci e\\u011fitim g\\u00f6r\\u00fcyor 1863 y\\u0131l\\u0131ndan bu yana e\\u011fitimde f\\u0131rsat e\\u015fitli\\u011fi misyonuyla faaliyetlerini s\\u00fcrd\\u00fcren Dar\\u00fc\\u015f\\u015fafaka\\u2019da bug\\u00fcn itibar\\u0131yla bine yak\\u0131n \\u00f6\\u011frenci e\\u011fitimine devam ediyor. \\u00d6\\u011frencilerin 8 y\\u0131l boyunca yat\\u0131l\\u0131 ve \\u00fccretsiz olarak okudu\\u011fu Dar\\u00fc\\u015f\\u015fafaka\\u2019da 24 ki\\u015filik s\\u0131n\\u0131flarda e\\u011fitim-\\u00f6\\u011fretim hayatlar\\u0131na devam eden \\u00f6\\u011frenciler \\u0130ngilizce\\u2019nin yan\\u0131 s\\u0131ra ikinci dil \\u00f6\\u011frenme f\\u0131rsat\\u0131 bulurken; okul b\\u00fcnyesinde bulunan 50\\u2019ye yak\\u0131n sosyal kul\\u00fcp sayesinde de sosyal becerilerini ve yeteneklerini geli\\u015ftirme f\\u0131rsat\\u0131 yakal\\u0131yorlar. S\\u0131nava ba\\u015fvurmak i\\u00e7in gereken \\u015fartlar? - T\\u00fcrkiye Cumhuriyeti vatanda\\u015f\\u0131 olmas\\u0131 - Annesinin ve/veya babas\\u0131n\\u0131n hayatta olmamas\\u0131 - Ailenin maddi durumunun \\u00f6\\u011frenimini s\\u00fcrd\\u00fcrmesine yeterli olmamas\\u0131 - 2009 ya da daha sonraki y\\u0131llarda do\\u011fmu\\u015f olmas\\u0131 (Ya\\u015f d\\u00fczeltmesi ge\\u00e7ersizdir.) - 2019-2020 e\\u011fitim-\\u00f6\\u011fretim y\\u0131l\\u0131nda ilkokul 4. s\\u0131n\\u0131f \\u00f6\\u011frencisi olmas\\u0131 - Beden ve ruh sa\\u011fl\\u0131\\u011f\\u0131n\\u0131n yat\\u0131l\\u0131 okulda okumaya uygun olmas\\u0131 - Yukar\\u0131daki ko\\u015fullar\\u0131n t\\u00fcm\\u00fcn\\u00fc ta\\u015f\\u0131yan adaylar, s\\u0131nav kayd\\u0131 i\\u00e7in ba\\u015fvurabilirler. Gerekli belgeler neler? - Aday\\u0131n okumakta oldu\\u011fu ilkokul m\\u00fcd\\u00fcrl\\u00fc\\u011f\\u00fcnden al\\u0131nacak ve \\u201cilkokul 4. s\\u0131n\\u0131f \\u00f6\\u011frencisi oldu\\u011funu g\\u00f6sterir imzal\\u0131 ve m\\u00fch\\u00fcrl\\u00fc belge\\u201d (Okul karnesi kabul edilmez.) - N\\u00fcfus c\\u00fczdan\\u0131 fotokopisi - Vukuatl\\u0131 aile n\\u00fcfus kayd\\u0131 \\u00f6rne\\u011fi (Suret, fotokopi, muhtar belgesi, \\u00f6l\\u00fcm tutana\\u011f\\u0131 kabul edilmez.) - Aday\\u0131n iki (2) adet yeni \\u00e7ekilmi\\u015f vesikal\\u0131k foto\\u011fraf\\u0131 - Ba\\u015fvuru Formu (doldurulmu\\u015f) -Ki\\u015fisel Verilerin Korunma Kanunu kapsam\\u0131nda ayd\\u0131nlatma metni ve aday \\u00f6\\u011frenci muvafakatnamesi (imzalanm\\u0131\\u015f olarak) Ba\\u015fvuru adresi Aday kayd\\u0131 i\\u00e7in ba\\u015fvurular online ya da elden Dar\\u00fc\\u015f\\u015fafaka Ortaokulu'na (Dar\\u00fc\\u015f\\u015fafaka Mah. Dar\\u00fc\\u015f\\u015fafaka Cad. No:5/9 Maslak 34457 Sar\\u0131yer / \\u0130STANBUL) yap\\u0131labiliyor. Ba\\u015fvuru i\\u00e7in gerekli belgelerinin Dar\\u00fc\\u015f\\u015fafaka Ortaokulu'na elden ya da postayla ula\\u015ft\\u0131r\\u0131lmas\\u0131 zorunludur.\",\n          \"D\\u00fczce \\u0130l Emniyet M\\u00fcd\\u00fcrl\\u00fc\\u011f\\u00fc Narkotik Su\\u00e7larla M\\u00fccadele \\u015eubesi ekipleri, TEM yolunda yapt\\u0131klar\\u0131 \\u00e7al\\u0131\\u015fmada N.G. y\\u00f6netimindeki otomobili durdurdu. Otomobilde yap\\u0131lan aramada 14 bin 684 uyu\\u015fturucu hap ele ge\\u00e7irildi. Soru\\u015fturman\\u0131n geni\\u015fletilmesiyle D\\u00fczce, Ankara ve \\u0130stanbul'da belirlenen adreslere e\\u015f zamanl\\u0131 operasyon d\\u00fczenlendi. Operasyonda K.L., M.U. ve Z.K. de yakaland\\u0131. G\\u00f6zalt\\u0131na al\\u0131nan 4 ki\\u015fi, emniyetteki i\\u015flemlerinin ard\\u0131ndan adliyeye sevk edildi. N.G adli kontrol \\u015fart\\u0131yla serbest kal\\u0131rken, K.L., M.U. ve Z.K. \\u00e7\\u0131kar\\u0131ld\\u0131\\u011f\\u0131 mahkemece tutukland\\u0131.\"\n        ],\n        \"semantic_type\": \"\",\n        \"description\": \"\"\n      }\n    },\n    {\n      \"column\": \"category\",\n      \"properties\": {\n        \"dtype\": \"category\",\n        \"num_unique_values\": 11,\n        \"samples\": [\n          \"gundem\",\n          \"bilim_teknoloji\",\n          \"turkiye\"\n        ],\n        \"semantic_type\": \"\",\n        \"description\": \"\"\n      }\n    }\n  ]\n}"
            }
          },
          "metadata": {},
          "execution_count": 7
        }
      ]
    },
    {
      "cell_type": "code",
      "source": [
        "df[\"context\"]= df.title + \" \" + df.context"
      ],
      "metadata": {
        "id": "pI2J_Lb1GyaE"
      },
      "execution_count": 8,
      "outputs": []
    },
    {
      "cell_type": "code",
      "source": [
        "#Feature engineering\n",
        "df=df[[\"context\", \"category\"]]\n",
        "df"
      ],
      "metadata": {
        "colab": {
          "base_uri": "https://localhost:8080/",
          "height": 424
        },
        "id": "88-RrBrQeat-",
        "outputId": "54b6d42a-c730-4314-a86d-2c6ec31d45d3"
      },
      "execution_count": 9,
      "outputs": [
        {
          "output_type": "execute_result",
          "data": {
            "text/plain": [
              "                                                 context         category\n",
              "0      BTK'nın sosyal ağ sağlayıcılara tanıdığı süre ...  bilim_teknoloji\n",
              "1      Samsung Yönetim Kurulu Başkanı Lee hayatını ka...  bilim_teknoloji\n",
              "2      Yerli ve milli 5G şebekesi hedefi: Radyolink b...  bilim_teknoloji\n",
              "3      Elektrik direğindeki kaçağı haber veren akıllı...  bilim_teknoloji\n",
              "4      Sosyal medya sitelerinin temsilci bildirmesi i...  bilim_teknoloji\n",
              "...                                                  ...              ...\n",
              "35195  Kahramanlığıyla iz bırakan Eren Bülbül'ün şeha...            yasam\n",
              "35196  Kurban keserken nelere dikkat edilmeli? Kurban...            yasam\n",
              "35197  Sanatsever kardeşlerden Fatsa'da nostaljik fil...            yasam\n",
              "35198  Yaralı kaplumbağalar rehabilitasyon merkezinde...            yasam\n",
              "35199  Anafartalar Zaferi'nin 104. yılında kahramanla...            yasam\n",
              "\n",
              "[35200 rows x 2 columns]"
            ],
            "text/html": [
              "\n",
              "  <div id=\"df-ea7f234f-46d0-42b5-ab0a-64d57b770917\" class=\"colab-df-container\">\n",
              "    <div>\n",
              "<style scoped>\n",
              "    .dataframe tbody tr th:only-of-type {\n",
              "        vertical-align: middle;\n",
              "    }\n",
              "\n",
              "    .dataframe tbody tr th {\n",
              "        vertical-align: top;\n",
              "    }\n",
              "\n",
              "    .dataframe thead th {\n",
              "        text-align: right;\n",
              "    }\n",
              "</style>\n",
              "<table border=\"1\" class=\"dataframe\">\n",
              "  <thead>\n",
              "    <tr style=\"text-align: right;\">\n",
              "      <th></th>\n",
              "      <th>context</th>\n",
              "      <th>category</th>\n",
              "    </tr>\n",
              "  </thead>\n",
              "  <tbody>\n",
              "    <tr>\n",
              "      <th>0</th>\n",
              "      <td>BTK'nın sosyal ağ sağlayıcılara tanıdığı süre ...</td>\n",
              "      <td>bilim_teknoloji</td>\n",
              "    </tr>\n",
              "    <tr>\n",
              "      <th>1</th>\n",
              "      <td>Samsung Yönetim Kurulu Başkanı Lee hayatını ka...</td>\n",
              "      <td>bilim_teknoloji</td>\n",
              "    </tr>\n",
              "    <tr>\n",
              "      <th>2</th>\n",
              "      <td>Yerli ve milli 5G şebekesi hedefi: Radyolink b...</td>\n",
              "      <td>bilim_teknoloji</td>\n",
              "    </tr>\n",
              "    <tr>\n",
              "      <th>3</th>\n",
              "      <td>Elektrik direğindeki kaçağı haber veren akıllı...</td>\n",
              "      <td>bilim_teknoloji</td>\n",
              "    </tr>\n",
              "    <tr>\n",
              "      <th>4</th>\n",
              "      <td>Sosyal medya sitelerinin temsilci bildirmesi i...</td>\n",
              "      <td>bilim_teknoloji</td>\n",
              "    </tr>\n",
              "    <tr>\n",
              "      <th>...</th>\n",
              "      <td>...</td>\n",
              "      <td>...</td>\n",
              "    </tr>\n",
              "    <tr>\n",
              "      <th>35195</th>\n",
              "      <td>Kahramanlığıyla iz bırakan Eren Bülbül'ün şeha...</td>\n",
              "      <td>yasam</td>\n",
              "    </tr>\n",
              "    <tr>\n",
              "      <th>35196</th>\n",
              "      <td>Kurban keserken nelere dikkat edilmeli? Kurban...</td>\n",
              "      <td>yasam</td>\n",
              "    </tr>\n",
              "    <tr>\n",
              "      <th>35197</th>\n",
              "      <td>Sanatsever kardeşlerden Fatsa'da nostaljik fil...</td>\n",
              "      <td>yasam</td>\n",
              "    </tr>\n",
              "    <tr>\n",
              "      <th>35198</th>\n",
              "      <td>Yaralı kaplumbağalar rehabilitasyon merkezinde...</td>\n",
              "      <td>yasam</td>\n",
              "    </tr>\n",
              "    <tr>\n",
              "      <th>35199</th>\n",
              "      <td>Anafartalar Zaferi'nin 104. yılında kahramanla...</td>\n",
              "      <td>yasam</td>\n",
              "    </tr>\n",
              "  </tbody>\n",
              "</table>\n",
              "<p>35200 rows × 2 columns</p>\n",
              "</div>\n",
              "    <div class=\"colab-df-buttons\">\n",
              "\n",
              "  <div class=\"colab-df-container\">\n",
              "    <button class=\"colab-df-convert\" onclick=\"convertToInteractive('df-ea7f234f-46d0-42b5-ab0a-64d57b770917')\"\n",
              "            title=\"Convert this dataframe to an interactive table.\"\n",
              "            style=\"display:none;\">\n",
              "\n",
              "  <svg xmlns=\"http://www.w3.org/2000/svg\" height=\"24px\" viewBox=\"0 -960 960 960\">\n",
              "    <path d=\"M120-120v-720h720v720H120Zm60-500h600v-160H180v160Zm220 220h160v-160H400v160Zm0 220h160v-160H400v160ZM180-400h160v-160H180v160Zm440 0h160v-160H620v160ZM180-180h160v-160H180v160Zm440 0h160v-160H620v160Z\"/>\n",
              "  </svg>\n",
              "    </button>\n",
              "\n",
              "  <style>\n",
              "    .colab-df-container {\n",
              "      display:flex;\n",
              "      gap: 12px;\n",
              "    }\n",
              "\n",
              "    .colab-df-convert {\n",
              "      background-color: #E8F0FE;\n",
              "      border: none;\n",
              "      border-radius: 50%;\n",
              "      cursor: pointer;\n",
              "      display: none;\n",
              "      fill: #1967D2;\n",
              "      height: 32px;\n",
              "      padding: 0 0 0 0;\n",
              "      width: 32px;\n",
              "    }\n",
              "\n",
              "    .colab-df-convert:hover {\n",
              "      background-color: #E2EBFA;\n",
              "      box-shadow: 0px 1px 2px rgba(60, 64, 67, 0.3), 0px 1px 3px 1px rgba(60, 64, 67, 0.15);\n",
              "      fill: #174EA6;\n",
              "    }\n",
              "\n",
              "    .colab-df-buttons div {\n",
              "      margin-bottom: 4px;\n",
              "    }\n",
              "\n",
              "    [theme=dark] .colab-df-convert {\n",
              "      background-color: #3B4455;\n",
              "      fill: #D2E3FC;\n",
              "    }\n",
              "\n",
              "    [theme=dark] .colab-df-convert:hover {\n",
              "      background-color: #434B5C;\n",
              "      box-shadow: 0px 1px 3px 1px rgba(0, 0, 0, 0.15);\n",
              "      filter: drop-shadow(0px 1px 2px rgba(0, 0, 0, 0.3));\n",
              "      fill: #FFFFFF;\n",
              "    }\n",
              "  </style>\n",
              "\n",
              "    <script>\n",
              "      const buttonEl =\n",
              "        document.querySelector('#df-ea7f234f-46d0-42b5-ab0a-64d57b770917 button.colab-df-convert');\n",
              "      buttonEl.style.display =\n",
              "        google.colab.kernel.accessAllowed ? 'block' : 'none';\n",
              "\n",
              "      async function convertToInteractive(key) {\n",
              "        const element = document.querySelector('#df-ea7f234f-46d0-42b5-ab0a-64d57b770917');\n",
              "        const dataTable =\n",
              "          await google.colab.kernel.invokeFunction('convertToInteractive',\n",
              "                                                    [key], {});\n",
              "        if (!dataTable) return;\n",
              "\n",
              "        const docLinkHtml = 'Like what you see? Visit the ' +\n",
              "          '<a target=\"_blank\" href=https://colab.research.google.com/notebooks/data_table.ipynb>data table notebook</a>'\n",
              "          + ' to learn more about interactive tables.';\n",
              "        element.innerHTML = '';\n",
              "        dataTable['output_type'] = 'display_data';\n",
              "        await google.colab.output.renderOutput(dataTable, element);\n",
              "        const docLink = document.createElement('div');\n",
              "        docLink.innerHTML = docLinkHtml;\n",
              "        element.appendChild(docLink);\n",
              "      }\n",
              "    </script>\n",
              "  </div>\n",
              "\n",
              "\n",
              "<div id=\"df-6b7c6502-f81f-44ac-92bd-b47841131846\">\n",
              "  <button class=\"colab-df-quickchart\" onclick=\"quickchart('df-6b7c6502-f81f-44ac-92bd-b47841131846')\"\n",
              "            title=\"Suggest charts\"\n",
              "            style=\"display:none;\">\n",
              "\n",
              "<svg xmlns=\"http://www.w3.org/2000/svg\" height=\"24px\"viewBox=\"0 0 24 24\"\n",
              "     width=\"24px\">\n",
              "    <g>\n",
              "        <path d=\"M19 3H5c-1.1 0-2 .9-2 2v14c0 1.1.9 2 2 2h14c1.1 0 2-.9 2-2V5c0-1.1-.9-2-2-2zM9 17H7v-7h2v7zm4 0h-2V7h2v10zm4 0h-2v-4h2v4z\"/>\n",
              "    </g>\n",
              "</svg>\n",
              "  </button>\n",
              "\n",
              "<style>\n",
              "  .colab-df-quickchart {\n",
              "      --bg-color: #E8F0FE;\n",
              "      --fill-color: #1967D2;\n",
              "      --hover-bg-color: #E2EBFA;\n",
              "      --hover-fill-color: #174EA6;\n",
              "      --disabled-fill-color: #AAA;\n",
              "      --disabled-bg-color: #DDD;\n",
              "  }\n",
              "\n",
              "  [theme=dark] .colab-df-quickchart {\n",
              "      --bg-color: #3B4455;\n",
              "      --fill-color: #D2E3FC;\n",
              "      --hover-bg-color: #434B5C;\n",
              "      --hover-fill-color: #FFFFFF;\n",
              "      --disabled-bg-color: #3B4455;\n",
              "      --disabled-fill-color: #666;\n",
              "  }\n",
              "\n",
              "  .colab-df-quickchart {\n",
              "    background-color: var(--bg-color);\n",
              "    border: none;\n",
              "    border-radius: 50%;\n",
              "    cursor: pointer;\n",
              "    display: none;\n",
              "    fill: var(--fill-color);\n",
              "    height: 32px;\n",
              "    padding: 0;\n",
              "    width: 32px;\n",
              "  }\n",
              "\n",
              "  .colab-df-quickchart:hover {\n",
              "    background-color: var(--hover-bg-color);\n",
              "    box-shadow: 0 1px 2px rgba(60, 64, 67, 0.3), 0 1px 3px 1px rgba(60, 64, 67, 0.15);\n",
              "    fill: var(--button-hover-fill-color);\n",
              "  }\n",
              "\n",
              "  .colab-df-quickchart-complete:disabled,\n",
              "  .colab-df-quickchart-complete:disabled:hover {\n",
              "    background-color: var(--disabled-bg-color);\n",
              "    fill: var(--disabled-fill-color);\n",
              "    box-shadow: none;\n",
              "  }\n",
              "\n",
              "  .colab-df-spinner {\n",
              "    border: 2px solid var(--fill-color);\n",
              "    border-color: transparent;\n",
              "    border-bottom-color: var(--fill-color);\n",
              "    animation:\n",
              "      spin 1s steps(1) infinite;\n",
              "  }\n",
              "\n",
              "  @keyframes spin {\n",
              "    0% {\n",
              "      border-color: transparent;\n",
              "      border-bottom-color: var(--fill-color);\n",
              "      border-left-color: var(--fill-color);\n",
              "    }\n",
              "    20% {\n",
              "      border-color: transparent;\n",
              "      border-left-color: var(--fill-color);\n",
              "      border-top-color: var(--fill-color);\n",
              "    }\n",
              "    30% {\n",
              "      border-color: transparent;\n",
              "      border-left-color: var(--fill-color);\n",
              "      border-top-color: var(--fill-color);\n",
              "      border-right-color: var(--fill-color);\n",
              "    }\n",
              "    40% {\n",
              "      border-color: transparent;\n",
              "      border-right-color: var(--fill-color);\n",
              "      border-top-color: var(--fill-color);\n",
              "    }\n",
              "    60% {\n",
              "      border-color: transparent;\n",
              "      border-right-color: var(--fill-color);\n",
              "    }\n",
              "    80% {\n",
              "      border-color: transparent;\n",
              "      border-right-color: var(--fill-color);\n",
              "      border-bottom-color: var(--fill-color);\n",
              "    }\n",
              "    90% {\n",
              "      border-color: transparent;\n",
              "      border-bottom-color: var(--fill-color);\n",
              "    }\n",
              "  }\n",
              "</style>\n",
              "\n",
              "  <script>\n",
              "    async function quickchart(key) {\n",
              "      const quickchartButtonEl =\n",
              "        document.querySelector('#' + key + ' button');\n",
              "      quickchartButtonEl.disabled = true;  // To prevent multiple clicks.\n",
              "      quickchartButtonEl.classList.add('colab-df-spinner');\n",
              "      try {\n",
              "        const charts = await google.colab.kernel.invokeFunction(\n",
              "            'suggestCharts', [key], {});\n",
              "      } catch (error) {\n",
              "        console.error('Error during call to suggestCharts:', error);\n",
              "      }\n",
              "      quickchartButtonEl.classList.remove('colab-df-spinner');\n",
              "      quickchartButtonEl.classList.add('colab-df-quickchart-complete');\n",
              "    }\n",
              "    (() => {\n",
              "      let quickchartButtonEl =\n",
              "        document.querySelector('#df-6b7c6502-f81f-44ac-92bd-b47841131846 button');\n",
              "      quickchartButtonEl.style.display =\n",
              "        google.colab.kernel.accessAllowed ? 'block' : 'none';\n",
              "    })();\n",
              "  </script>\n",
              "</div>\n",
              "\n",
              "  <div id=\"id_2f57ce83-e21a-4244-94c9-47e18751b048\">\n",
              "    <style>\n",
              "      .colab-df-generate {\n",
              "        background-color: #E8F0FE;\n",
              "        border: none;\n",
              "        border-radius: 50%;\n",
              "        cursor: pointer;\n",
              "        display: none;\n",
              "        fill: #1967D2;\n",
              "        height: 32px;\n",
              "        padding: 0 0 0 0;\n",
              "        width: 32px;\n",
              "      }\n",
              "\n",
              "      .colab-df-generate:hover {\n",
              "        background-color: #E2EBFA;\n",
              "        box-shadow: 0px 1px 2px rgba(60, 64, 67, 0.3), 0px 1px 3px 1px rgba(60, 64, 67, 0.15);\n",
              "        fill: #174EA6;\n",
              "      }\n",
              "\n",
              "      [theme=dark] .colab-df-generate {\n",
              "        background-color: #3B4455;\n",
              "        fill: #D2E3FC;\n",
              "      }\n",
              "\n",
              "      [theme=dark] .colab-df-generate:hover {\n",
              "        background-color: #434B5C;\n",
              "        box-shadow: 0px 1px 3px 1px rgba(0, 0, 0, 0.15);\n",
              "        filter: drop-shadow(0px 1px 2px rgba(0, 0, 0, 0.3));\n",
              "        fill: #FFFFFF;\n",
              "      }\n",
              "    </style>\n",
              "    <button class=\"colab-df-generate\" onclick=\"generateWithVariable('df')\"\n",
              "            title=\"Generate code using this dataframe.\"\n",
              "            style=\"display:none;\">\n",
              "\n",
              "  <svg xmlns=\"http://www.w3.org/2000/svg\" height=\"24px\"viewBox=\"0 0 24 24\"\n",
              "       width=\"24px\">\n",
              "    <path d=\"M7,19H8.4L18.45,9,17,7.55,7,17.6ZM5,21V16.75L18.45,3.32a2,2,0,0,1,2.83,0l1.4,1.43a1.91,1.91,0,0,1,.58,1.4,1.91,1.91,0,0,1-.58,1.4L9.25,21ZM18.45,9,17,7.55Zm-12,3A5.31,5.31,0,0,0,4.9,8.1,5.31,5.31,0,0,0,1,6.5,5.31,5.31,0,0,0,4.9,4.9,5.31,5.31,0,0,0,6.5,1,5.31,5.31,0,0,0,8.1,4.9,5.31,5.31,0,0,0,12,6.5,5.46,5.46,0,0,0,6.5,12Z\"/>\n",
              "  </svg>\n",
              "    </button>\n",
              "    <script>\n",
              "      (() => {\n",
              "      const buttonEl =\n",
              "        document.querySelector('#id_2f57ce83-e21a-4244-94c9-47e18751b048 button.colab-df-generate');\n",
              "      buttonEl.style.display =\n",
              "        google.colab.kernel.accessAllowed ? 'block' : 'none';\n",
              "\n",
              "      buttonEl.onclick = () => {\n",
              "        google.colab.notebook.generateWithVariable('df');\n",
              "      }\n",
              "      })();\n",
              "    </script>\n",
              "  </div>\n",
              "\n",
              "    </div>\n",
              "  </div>\n"
            ],
            "application/vnd.google.colaboratory.intrinsic+json": {
              "type": "dataframe",
              "variable_name": "df",
              "summary": "{\n  \"name\": \"df\",\n  \"rows\": 35200,\n  \"fields\": [\n    {\n      \"column\": \"context\",\n      \"properties\": {\n        \"dtype\": \"string\",\n        \"num_unique_values\": 33573,\n        \"samples\": [\n          \"Kapal\\u0131 Mara\\u015f'\\u0131n bir k\\u0131sm\\u0131 kullan\\u0131ma a\\u00e7\\u0131ld\\u0131 2019 y\\u0131l\\u0131nda ba\\u015flayan envanter \\u00e7al\\u0131\\u015fmalar\\u0131n\\u0131n ard\\u0131ndan Kapal\\u0131 Mara\\u015f bug\\u00fcn a\\u00e7\\u0131ld\\u0131. Kuzey K\\u0131br\\u0131s T\\u00fcrk Cumhuriyeti halk\\u0131, neredeyse yar\\u0131m as\\u0131r sonra Kapal\\u0131 Mara\\u015f'a girebiliyor. 46 y\\u0131ld\\u0131r kapal\\u0131 olan kentte, ilk a\\u015famada iki cadde ve sahil \\u015feridinin a\\u00e7\\u0131lmas\\u0131 i\\u00e7in hummal\\u0131 temizlik \\u00e7al\\u0131\\u015fmalar\\u0131 y\\u00fcr\\u00fct\\u00fcld\\u00fc. [Foto\\u011fraf: AA] [Foto\\u011fraf: AA] Gazima\\u011fusa'daki Mara\\u015f b\\u00f6lgesi, 1974 y\\u0131l\\u0131nda Birle\\u015fmi\\u015f Milletler karar\\u0131 ile KKTC ve Rum kesimi aras\\u0131nda tampon b\\u00f6lge ilan edildi ve kapat\\u0131ld\\u0131. Bir\\u00e7ok otel ve yerle\\u015fim yeriyle \\\"turizm cenneti\\\" olarak tan\\u0131mlanan b\\u00f6lge, adeta \\\"hayalet \\u015fehir\\\" haline geldi. Bug\\u00fcne kadar, Kapal\\u0131 Mara\\u015f'a sadece \\u00f6zel izinle giri\\u015fe izin verildi. MSB'den \\\"hay\\u0131rl\\u0131 olsun\\\" mesaj\\u0131 Milli Savunma Bakanl\\u0131\\u011f\\u0131, Kapal\\u0131 Mara\\u015f'\\u0131n a\\u00e7\\u0131lmas\\u0131yla ilgili Twitter hesab\\u0131ndan bir payla\\u015f\\u0131m yapt\\u0131. MSB'nin payla\\u015f\\u0131m\\u0131nda, \\\"Sembolik anlam\\u0131 b\\u00fcy\\u00fck olan ve 46 y\\u0131ll\\u0131k hasreti bitiren bu ad\\u0131m, KKTC\\u2019ye ve orada ya\\u015fayan karde\\u015flerimize hay\\u0131rl\\u0131 olsun\\\" s\\u00f6zlerine yer verildi. Kuzey K\\u0131br\\u0131s T\\u00fcrk Cumhuriyeti\\u2019ne ait olan, 46 y\\u0131ld\\u0131r yerle\\u015fime ve ziyarete kapal\\u0131 tutulan Kapal\\u0131 Mara\\u015f\\u2019\\u0131n bir b\\u00f6l\\u00fcm\\u00fc bug\\u00fcn halk\\u0131n ziyaretine a\\u00e7\\u0131ld\\u0131. Sembolik anlam\\u0131 b\\u00fcy\\u00fck olan ve 46 y\\u0131ll\\u0131k hasreti bitiren bu ad\\u0131m, KKTC\\u2019ye ve orada ya\\u015fayan karde\\u015flerimize hay\\u0131rl\\u0131 olsun. pic.twitter.com/9HMe7x6V3d T\\u00fcrkiye'den destek KKTC'de Mara\\u015f'\\u0131n yeniden yerle\\u015fime a\\u00e7\\u0131lmas\\u0131yla ilgili \\u00e7al\\u0131\\u015fmalar T\\u00fcrkiye taraf\\u0131ndan da b\\u00fcy\\u00fck destek g\\u00f6rd\\u00fc. Cumhurba\\u015fkan\\u0131 Recep Tayyip Erdo\\u011fan, ilk ad\\u0131m olarak K\\u0131br\\u0131s T\\u00fcrk halk\\u0131n\\u0131n Mara\\u015f'\\u0131n sahil \\u015feridinden faydalanmak \\u00fczere kapal\\u0131 b\\u00f6lgeye girebilecek olmas\\u0131ndan memnuniyet duyduklar\\u0131n\\u0131 s\\u00f6yleyerek, \\\"Kullan\\u0131ma a\\u00e7\\u0131lan b\\u00f6lgede hi\\u00e7bir \\u00f6zel m\\u00fclk bulunmamas\\u0131 sebebiyle herhangi bir ma\\u011fduriyete yol a\\u00e7\\u0131lmayaca\\u011f\\u0131 i\\u00e7in kar\\u015f\\u0131 taraf\\u0131n itirazlar\\u0131 \\u015fimdiden bo\\u015fa \\u00e7\\u0131km\\u0131\\u015ft\\u0131r. M\\u00fclkiyet haklar\\u0131na sayg\\u0131 g\\u00f6sterilerek y\\u00fcr\\u00fct\\u00fclen \\u00e7al\\u0131\\u015fmalar\\u0131n bir an \\u00f6nce sonu\\u00e7land\\u0131r\\u0131larak Mara\\u015f'\\u0131n b\\u00fct\\u00fcn\\u00fcyle kullan\\u0131ma a\\u00e7\\u0131lmas\\u0131n\\u0131 temenni ediyoruz. Bu konuda KKTC makamlar\\u0131na her t\\u00fcrl\\u00fc deste\\u011fi vermeye haz\\u0131r\\u0131z\\\" demi\\u015fti. Cumhurba\\u015fkan\\u0131 Yard\\u0131mc\\u0131s\\u0131 Fuat Oktay ise, Mara\\u015f ile ilgili al\\u0131nan karar\\u0131n ar\\u0131ndan sosyal medya hesab\\u0131ndan yapt\\u0131\\u011f\\u0131 payla\\u015f\\u0131mda, \\\"Uzun zamand\\u0131r at\\u0131l kalarak i\\u00e7imizi s\\u0131zlatan g\\u00fczel Mara\\u015f'\\u0131, hakkaniyete ve hukuka uygun bir \\u015fekilde a\\u00e7\\u0131yoruz\\\" demi\\u015fti.\",\n          \"Sivas'ta a\\u011fustos ay\\u0131 kaymakamlar toplant\\u0131s\\u0131 yap\\u0131ld\\u0131 Valilik Salonunda ger\\u00e7ekle\\u015ftirilen toplant\\u0131da, g\\u00f6revine yeni ba\\u015flayan kaymakamlar kendilerini tan\\u0131tt\\u0131. Daha sonra il\\u00e7elerdeki Kovid-19 vaka durumlar\\u0131, filyasyon \\u00e7al\\u0131\\u015fmalar\\u0131 ve salg\\u0131n denetim faaliyetleri ile K\\u00d6YDES projeleri, 300 Fikir 300 Proje \\u00e7al\\u0131\\u015fmalar\\u0131, sportif faaliyetler ve 2020-2021 e\\u011fitim-\\u00f6\\u011fretim y\\u0131l\\u0131 haz\\u0131rl\\u0131k \\u00e7al\\u0131\\u015fmalar\\u0131 g\\u00f6r\\u00fc\\u015f\\u00fcld\\u00fc. Vali Ayhan, t\\u00fcm kamu g\\u00f6revlilerinin birinci g\\u00f6revinin Kovid-19 ile m\\u00fccadele oldu\\u011funu kaydederek, \\u015funlar\\u0131 kaydetti: \\\"Kamu g\\u00f6revlileri \\u00f6ncelikli olarak kendi sa\\u011fl\\u0131klar\\u0131na dikkat etmeleri gerekiyor. \\u00d6rnek bir model olmal\\u0131lar. Denetimleri artt\\u0131rarak devam edece\\u011fiz. Vatanda\\u015f\\u0131n sa\\u011fl\\u0131\\u011f\\u0131n\\u0131 hi\\u00e7e sayan, sorumsuz, vurdumduymaz olan ki\\u015filer varsa gerekli cezalar\\u0131 mutlaka uygulayaca\\u011f\\u0131z. Denetimlerde vatanda\\u015flar\\u0131m\\u0131z\\u0131 daha duyarl\\u0131 olmalar\\u0131 konusunda uyaraca\\u011f\\u0131z. Bu konuda ciddi bir hassasiyet g\\u00f6sterece\\u011fiz. Bu s\\u00fcrecin i\\u00e7inde \\u00e7ok etkin bir \\u015fekilde olman\\u0131z\\u0131 istiyoruz. Bayramda sonra ilimizde ya\\u015fanan yo\\u011fun n\\u00fcfus hareketi ile birlikte vakalarda bir art\\u0131\\u015f s\\u00f6z konusu.\\\"\",\n          \"Adana'da yankesicilik \\u015f\\u00fcphelisini g\\u00fcvenlik kameras\\u0131 yakalatt\\u0131 \\u00d6mer \\u00d6z (32), merkez Seyhan il\\u00e7esi \\u0130n\\u00f6n\\u00fc Caddesi'ndeki durakta minib\\u00fcse bindikten k\\u0131sa s\\u00fcre sonra cep telefonunun \\u00e7al\\u0131nd\\u0131\\u011f\\u0131n\\u0131 fark etti. \\u00d6z'\\u00fcn durumu bildirmesi \\u00fczerine \\u0130l Emniyet M\\u00fcd\\u00fcrl\\u00fc\\u011f\\u00fc Asayi\\u015f \\u015eubesi Yankesicilik ve Doland\\u0131r\\u0131c\\u0131l\\u0131k B\\u00fcro Amirli\\u011fi ekipleri ara\\u015ft\\u0131rma ba\\u015flatt\\u0131. Ekip, bir otob\\u00fcs\\u00fcn g\\u00fcvenlik kameras\\u0131 g\\u00f6r\\u00fcnt\\u00fclerinden olay\\u0131n \\u015f\\u00fcphelisinin yankesicilikten emniyette \\u00e7ok say\\u0131da su\\u00e7 kayd\\u0131 bulunan \\u00d6mer K. (42) oldu\\u011funu belirledi. Zanl\\u0131 \\u00d6mer K, Yenibey Mahallesi'ndeki evine d\\u00fczenlenen operasyonla yakaland\\u0131. \\u00c7al\\u0131nan cep telefonu da sahibine teslim edildi. \\u015e\\u00fcpheli, emniyetteki i\\u015flemin ard\\u0131ndan \\u00e7\\u0131kar\\u0131ld\\u0131\\u011f\\u0131 n\\u00f6bet\\u00e7i sulh ceza hakimli\\u011fince tutukland\\u0131. Otob\\u00fcs\\u00fcn g\\u00fcvenlik kameras\\u0131na yans\\u0131yan g\\u00f6r\\u00fcnt\\u00fclerde, minib\\u00fcse binen \\u00d6mer \\u00d6z'\\u00fcn arkas\\u0131ndan bir ki\\u015finin yakla\\u015fmas\\u0131 ve k\\u0131sa s\\u00fcre sonra zanl\\u0131n\\u0131n minib\\u00fcse binmeyip elinde cep telefonuyla b\\u00f6lgeden uzakla\\u015fmas\\u0131 yer al\\u0131yor. Kamera kayd\\u0131nda, telefonunun cebinde olmad\\u0131\\u011f\\u0131n\\u0131 fark eden \\u00d6z'\\u00fcn, ara\\u00e7tan inip \\u00e7evresini kontrol etmesi de g\\u00f6r\\u00fcl\\u00fcyor.\"\n        ],\n        \"semantic_type\": \"\",\n        \"description\": \"\"\n      }\n    },\n    {\n      \"column\": \"category\",\n      \"properties\": {\n        \"dtype\": \"category\",\n        \"num_unique_values\": 11,\n        \"samples\": [\n          \"gundem\",\n          \"bilim_teknoloji\",\n          \"turkiye\"\n        ],\n        \"semantic_type\": \"\",\n        \"description\": \"\"\n      }\n    }\n  ]\n}"
            }
          },
          "metadata": {},
          "execution_count": 9
        }
      ]
    },
    {
      "cell_type": "code",
      "source": [
        "df.category.value_counts()"
      ],
      "metadata": {
        "colab": {
          "base_uri": "https://localhost:8080/",
          "height": 460
        },
        "id": "bIADqFgCe5MW",
        "outputId": "ab0e9a81-beee-4dd9-ac4d-7ab15b518780"
      },
      "execution_count": 10,
      "outputs": [
        {
          "output_type": "execute_result",
          "data": {
            "text/plain": [
              "category\n",
              "bilim_teknoloji    3200\n",
              "dunya              3200\n",
              "egitim             3200\n",
              "ekonomi            3200\n",
              "guncel             3200\n",
              "gundem             3200\n",
              "kultur_sanat       3200\n",
              "saglik             3200\n",
              "spor               3200\n",
              "turkiye            3200\n",
              "yasam              3200\n",
              "Name: count, dtype: int64"
            ],
            "text/html": [
              "<div>\n",
              "<style scoped>\n",
              "    .dataframe tbody tr th:only-of-type {\n",
              "        vertical-align: middle;\n",
              "    }\n",
              "\n",
              "    .dataframe tbody tr th {\n",
              "        vertical-align: top;\n",
              "    }\n",
              "\n",
              "    .dataframe thead th {\n",
              "        text-align: right;\n",
              "    }\n",
              "</style>\n",
              "<table border=\"1\" class=\"dataframe\">\n",
              "  <thead>\n",
              "    <tr style=\"text-align: right;\">\n",
              "      <th></th>\n",
              "      <th>count</th>\n",
              "    </tr>\n",
              "    <tr>\n",
              "      <th>category</th>\n",
              "      <th></th>\n",
              "    </tr>\n",
              "  </thead>\n",
              "  <tbody>\n",
              "    <tr>\n",
              "      <th>bilim_teknoloji</th>\n",
              "      <td>3200</td>\n",
              "    </tr>\n",
              "    <tr>\n",
              "      <th>dunya</th>\n",
              "      <td>3200</td>\n",
              "    </tr>\n",
              "    <tr>\n",
              "      <th>egitim</th>\n",
              "      <td>3200</td>\n",
              "    </tr>\n",
              "    <tr>\n",
              "      <th>ekonomi</th>\n",
              "      <td>3200</td>\n",
              "    </tr>\n",
              "    <tr>\n",
              "      <th>guncel</th>\n",
              "      <td>3200</td>\n",
              "    </tr>\n",
              "    <tr>\n",
              "      <th>gundem</th>\n",
              "      <td>3200</td>\n",
              "    </tr>\n",
              "    <tr>\n",
              "      <th>kultur_sanat</th>\n",
              "      <td>3200</td>\n",
              "    </tr>\n",
              "    <tr>\n",
              "      <th>saglik</th>\n",
              "      <td>3200</td>\n",
              "    </tr>\n",
              "    <tr>\n",
              "      <th>spor</th>\n",
              "      <td>3200</td>\n",
              "    </tr>\n",
              "    <tr>\n",
              "      <th>turkiye</th>\n",
              "      <td>3200</td>\n",
              "    </tr>\n",
              "    <tr>\n",
              "      <th>yasam</th>\n",
              "      <td>3200</td>\n",
              "    </tr>\n",
              "  </tbody>\n",
              "</table>\n",
              "</div><br><label><b>dtype:</b> int64</label>"
            ]
          },
          "metadata": {},
          "execution_count": 10
        }
      ]
    },
    {
      "cell_type": "code",
      "source": [
        "unique_labels = df.category.unique()\n",
        "unique_labels"
      ],
      "metadata": {
        "colab": {
          "base_uri": "https://localhost:8080/"
        },
        "id": "nwnKyD-ePP5L",
        "outputId": "638ffadf-6cf4-471d-c848-adb9ede0611f"
      },
      "execution_count": 11,
      "outputs": [
        {
          "output_type": "execute_result",
          "data": {
            "text/plain": [
              "array(['bilim_teknoloji', 'dunya', 'egitim', 'ekonomi', 'guncel',\n",
              "       'gundem', 'kultur_sanat', 'saglik', 'spor', 'turkiye', 'yasam'],\n",
              "      dtype=object)"
            ]
          },
          "metadata": {},
          "execution_count": 11
        }
      ]
    },
    {
      "cell_type": "code",
      "source": [
        "#!Model targetları numeric olarak istiyor. Bu yüzden bir dict oluşturuyoruz.\n",
        "label_dict = {j:i for i, j in enumerate(unique_labels)}\n",
        "label_dict"
      ],
      "metadata": {
        "colab": {
          "base_uri": "https://localhost:8080/"
        },
        "id": "XR8JQ9OxPHbo",
        "outputId": "5fb12362-e81b-4fe1-cd44-366275fdb2eb"
      },
      "execution_count": 12,
      "outputs": [
        {
          "output_type": "execute_result",
          "data": {
            "text/plain": [
              "{'bilim_teknoloji': 0,\n",
              " 'dunya': 1,\n",
              " 'egitim': 2,\n",
              " 'ekonomi': 3,\n",
              " 'guncel': 4,\n",
              " 'gundem': 5,\n",
              " 'kultur_sanat': 6,\n",
              " 'saglik': 7,\n",
              " 'spor': 8,\n",
              " 'turkiye': 9,\n",
              " 'yasam': 10}"
            ]
          },
          "metadata": {},
          "execution_count": 12
        }
      ]
    },
    {
      "cell_type": "code",
      "source": [
        "df.category = df.category.map(label_dict)"
      ],
      "metadata": {
        "id": "cknfsV_6P0id"
      },
      "execution_count": 13,
      "outputs": []
    },
    {
      "cell_type": "code",
      "source": [
        "#Arraylere dönüştürüyorum çünkü DL modelleri arrayler üzerinde daha hızlı çalışıyor.\n",
        "X = df['context'].values\n",
        "y = df['category'].values"
      ],
      "metadata": {
        "id": "9HgXvmmEfG0p"
      },
      "execution_count": 14,
      "outputs": []
    },
    {
      "cell_type": "code",
      "source": [
        "from sklearn.model_selection import train_test_split\n",
        "\n",
        "X_train, X_test, y_train, y_test = train_test_split(X, y, test_size=0.2, stratify=y, random_state=42)"
      ],
      "metadata": {
        "id": "9ZFpMmi8_ZOq"
      },
      "execution_count": 15,
      "outputs": []
    },
    {
      "cell_type": "markdown",
      "source": [
        "## Max Text Length"
      ],
      "metadata": {
        "id": "buPlTer3ryhA"
      }
    },
    {
      "cell_type": "markdown",
      "source": [
        "## [Pre-trained model Classification](https://huggingface.co/docs/transformers/tasks/sequence_classification)"
      ],
      "metadata": {
        "id": "sqeYMPoOVXbg"
      }
    },
    {
      "cell_type": "code",
      "source": [
        "# For every sentence... \"https://huggingface.co/dbmdz/bert-base-turkish-uncased\"\n",
        "from transformers import AutoTokenizer\n",
        "tokenizer = AutoTokenizer.from_pretrained(\"dbmdz/bert-base-turkish-uncased\")\n",
        "\n",
        "number_tokens_sentences = []\n",
        "for sent in X_train:\n",
        "    # Tokenize the text and add `[CLS]` and `[SEP]` tokens.\n",
        "\n",
        "    input_ids = tokenizer.encode(str(sent),\n",
        "                                 add_special_tokens=True #başına ve sonuna özel token gelecek [SEP],[CLS]\n",
        "                                )\n",
        "\n",
        "    number_tokens_sentences.append(len(input_ids))\n",
        "\n",
        "print('Max sentence length: ', max(number_tokens_sentences))\n",
        "\n",
        "#Bert modeli 512 tokenden fazla token alamıyor. Fazla tokenler kırpılıyor az ise belirlediğimiz veya max token sayısına sayıya sabitliyoruz.\n",
        "#Bert modeldeher text aynı boyutta olmalıdır.\n",
        "# tokenizer.encode() fonksiyonunu sadece en uzun yorumun kaç tokenden oluştuğu bulmak ve tüm textleri kaç tokene sabitliyeceğimize karar vermek için kullanacağız."
      ],
      "metadata": {
        "id": "JlvlQST4nwiY",
        "colab": {
          "base_uri": "https://localhost:8080/"
        },
        "outputId": "36b1befb-8c06-45f4-add0-81e0dd863a96"
      },
      "execution_count": 16,
      "outputs": [
        {
          "output_type": "stream",
          "name": "stderr",
          "text": [
            "Token indices sequence length is longer than the specified maximum sequence length for this model (1410 > 512). Running this sequence through the model will result in indexing errors\n"
          ]
        },
        {
          "output_type": "stream",
          "name": "stdout",
          "text": [
            "Max sentence length:  7769\n"
          ]
        }
      ]
    },
    {
      "cell_type": "code",
      "source": [
        "#for instance;\n",
        "sentence=\" how are you ?\"\n",
        "\n",
        "tokenizer.encode(str(sentence),\n",
        "                 add_special_tokens=True)"
      ],
      "metadata": {
        "id": "0sukt2n7lKzG",
        "colab": {
          "base_uri": "https://localhost:8080/"
        },
        "outputId": "5ee11fa1-88b4-4792-cdff-4b93895aef24"
      },
      "execution_count": 17,
      "outputs": [
        {
          "output_type": "execute_result",
          "data": {
            "text/plain": [
              "[2, 25223, 17379, 9751, 35, 3]"
            ]
          },
          "metadata": {},
          "execution_count": 17
        }
      ]
    },
    {
      "cell_type": "code",
      "source": [
        "len(tokenizer.encode(str(sentence),add_special_tokens=True))"
      ],
      "metadata": {
        "id": "BDk8BaZU52KJ",
        "colab": {
          "base_uri": "https://localhost:8080/"
        },
        "outputId": "4829abed-b6ed-4009-cb64-f3c532e62266"
      },
      "execution_count": 18,
      "outputs": [
        {
          "output_type": "execute_result",
          "data": {
            "text/plain": [
              "6"
            ]
          },
          "metadata": {},
          "execution_count": 18
        }
      ]
    },
    {
      "cell_type": "code",
      "source": [
        "tokenizer.decode([2, 25223, 17379, 9751, 35, 3])"
      ],
      "metadata": {
        "id": "pBFBf60_lxi3",
        "colab": {
          "base_uri": "https://localhost:8080/",
          "height": 35
        },
        "outputId": "18574322-508d-48fa-ddc7-8bc3a3a5dd4f"
      },
      "execution_count": 19,
      "outputs": [
        {
          "output_type": "execute_result",
          "data": {
            "text/plain": [
              "'[CLS] how are you? [SEP]'"
            ],
            "application/vnd.google.colaboratory.intrinsic+json": {
              "type": "string"
            }
          },
          "metadata": {},
          "execution_count": 19
        }
      ]
    },
    {
      "cell_type": "code",
      "source": [
        "#Example\n",
        "list = [5, 10, 8, 9, 12, 15]\n",
        "print(np.array(list) <= 11)\n",
        "print(sum(np.array(list) <= 11))\n",
        "print(sum(np.array(list) <= 11)/len(list))\n",
        "\n",
        "# Örnek: Corpusumuzda 6 adet yorum olduğunu varsayalım. ilk yorum 5, ikinci yorum 10, üçüncü yorum 8, dördüncü yorum 9, beşinci\n",
        "# yorum 12 ve altıncı yorum 15 tokenden oluşuyor.\n",
        "\n",
        "# Tüm yorumları 11 tokene sabitlersem kaç yorumda bilgi/token kaybı olmayacağına bakalım.\n",
        "\n",
        "# ilk 4 yorumda herhangi bir bilgi/token kaybı olmayacak, ancak 5. yorumda 1 token, 6. yorumda 4 token kaybı olacak.\n",
        "# np.array(list) <= 11 kodu ile tüm yorumları 11 tokene sabitlediğimizde bilgi/token kaybı olmayan yorumların True olarak,\n",
        "# bilgi/token kaybı olanların False olarak döndürülmesini sağlıyorum --> [ True  True  True  True False False]\n",
        "# sum(np.array(list) <= 11) kodu ile öncelikle Truelar 1'e, Falselar 0'a dönüştürülür. Sonra da bu değerler toplanır. Çıkan\n",
        "# sonuç kaç yorumda bilgi/token kaybı olmadığını bize gösterir.\n",
        "# [True  True  True  True False False]-->[1 1 1 1 0 0]--> sum([1 1 1 1 0 0])-->4 --> cospusumdaki 6 yorumun 4'ünde bilgi/token\n",
        "# kaybı yok.\n",
        "# Elde ettiğimiz 4 sonucunu corpsumuzdaki tüm yorumların sayısına (len([5, 10, 8, 9, 12, 15])-->6) böldüğümüzde bize oran\n",
        "# olarak kaç yorumda bilgi/token kaybı olmadığını döndürür (4/6 --> 0.67).\n",
        "\n",
        "#Biz bu oranın %95 ve üzeri olmasını istiyoruz.\n",
        "#Eğer küçük olsaydı 512 den illa 512 ye sabitlememiz gerekmiyor. Herseferinde 512 ye sabitlemek maliyeti arttırabilr. %90-95 oranına"
      ],
      "metadata": {
        "id": "ltP0mOS_WI_K",
        "colab": {
          "base_uri": "https://localhost:8080/"
        },
        "outputId": "275e8ab2-cd56-40ad-e61f-4ba06a7e1f7b"
      },
      "execution_count": 20,
      "outputs": [
        {
          "output_type": "stream",
          "name": "stdout",
          "text": [
            "[ True  True  True  True False False]\n",
            "4\n",
            "0.6666666666666666\n"
          ]
        }
      ]
    },
    {
      "cell_type": "code",
      "source": [
        "print(sum(np.array(list) > 11)/len(list)) #örnekte %33 token kaybı olmuş"
      ],
      "metadata": {
        "id": "yU15rwrq6ouP",
        "colab": {
          "base_uri": "https://localhost:8080/"
        },
        "outputId": "d3cf365f-56ff-41cf-8d25-0b2f8d505e0f"
      },
      "execution_count": 21,
      "outputs": [
        {
          "output_type": "stream",
          "name": "stdout",
          "text": [
            "0.3333333333333333\n"
          ]
        }
      ]
    },
    {
      "cell_type": "code",
      "source": [
        "sum(np.array(number_tokens_sentences) <= 512) / len(number_tokens_sentences)\n",
        "#kendi datamıza uygulayınca %70 kayıp olmuyor.%30 kırpılma olcak."
      ],
      "metadata": {
        "id": "5LX0i2dhoQ6R",
        "colab": {
          "base_uri": "https://localhost:8080/"
        },
        "outputId": "b9ff91c2-20db-495f-b406-019ff2a017ce"
      },
      "execution_count": 22,
      "outputs": [
        {
          "output_type": "execute_result",
          "data": {
            "text/plain": [
              "0.7025213068181818"
            ]
          },
          "metadata": {},
          "execution_count": 22
        }
      ]
    },
    {
      "cell_type": "markdown",
      "source": [
        "## Converting Data to Dataset Format"
      ],
      "metadata": {
        "id": "U2DOUVijsHcq"
      }
    },
    {
      "cell_type": "code",
      "source": [
        "#[{'text': 'değişken', 'label': 0}]"
      ],
      "metadata": {
        "id": "36yx6S03_ZUR"
      },
      "execution_count": null,
      "outputs": []
    },
    {
      "cell_type": "code",
      "source": [
        "train_text=[]\n",
        "for i, j in zip(X_train, y_train): # zip fonksiyonu\n",
        "  train_text.append({\"text\": str(i), \"label\":j})\n",
        "\n",
        "test_text=[]\n",
        "for i, j in zip(X_test, y_test):\n",
        "  test_text.append({\"text\": str(i), \"label\":j})"
      ],
      "metadata": {
        "id": "CM2PYj2r_ZYy"
      },
      "execution_count": 23,
      "outputs": []
    },
    {
      "cell_type": "code",
      "source": [
        "train_text[0:2]"
      ],
      "metadata": {
        "colab": {
          "base_uri": "https://localhost:8080/"
        },
        "id": "l7sF5UM5BlqN",
        "outputId": "44c6b292-fb6a-4810-89a1-510f0aee6462"
      },
      "execution_count": 24,
      "outputs": [
        {
          "output_type": "execute_result",
          "data": {
            "text/plain": [
              "[{'text': \"Artistik buz pateni yarışmalarına koronavirüs engeli Türkiye Buz Pateni Federasyonundan yapılan açıklamada, ISU Konsey Toplantısı'nın ardından alınan kararlar doğrultusunda, Junior Grand Prix yarışmalarının sürdürülemeyeceği ve serinin tüm etkinliklerinin iptal edildiği ifade edildi. İptal kararının, sağlık komisyonunun önerileri ile etkinlik katılımcılarının güvenliği ve sağlığının gözetilerek alındığı belirtildi. Yeni sezon planlamasının ve diğer etkinliklerin ise 3 Ağustos'ta çevrim içi düzenlenecek toplantıda tekrar değerlendirileceği aktarıldı.\",\n",
              "  'label': 8},\n",
              " {'text': 'ASELSAN \"en çekici işveren\" seçildi ASELSAN\\'dan yapılan açıklamaya göre, Universum 2018 Türkiye’nin Öğrenci ve Çalışan Y Kuşağı İçin En Çekici İşverenler Araştırması sonuçları açıklandı. Universum tarafından 61 ülkede 1,8 milyon genç ile yapılan En Çekici İşveren Araştırması\\'nın Türkiye ayağı, 6. yılında 46 üniversiteden 41 bin 117 öğrenci ve ortalama 3 yıldır iş hayatında olan 13 bin 116 genç profesyonelden edinilen bilgilerle hazırlandı. Araştırma, Harvard Business Review Türkiye Dergisi\\'nin Eylül sayısında yayımlandı. ASELSAN, araştırmada Google, Apple ve Microsoft’u geride bırakarak ilk sıradaki yerini korudu. Şirket, bir yıl önce yapılan araştırmada da Mühendislik/IT alanında en çok beğenilen şirket olmuştu. ASELSAN Yönetim Kurulu Başkanı ve Genel Müdürü Haluk Görgün araştırma sonucu ile ilgili yaptığı değerlendirmelerde, Türkiye’nin en çok çalışılmak istenen şirketi olmanın gurur verici olduğunu söyledi. \"Sadece Türkiye’nin en parlak gençlerini ASELSAN’a çekmek değil, aynı zamanda onların aşkla, sorumlulukla çalışacağı bir iklim yaratmak, sorumluluk hissettirmek ve her ASELSAN çalışanının, bu kültürün önemli bir mimarı olduğunun farkında olmasını sağlamak önceliklerimiz arasındadır. ASELSAN’da olmaktan gurur ve mutluluk duyan çalışanlarımız en güvenilir marka elçilerimizdir. İnsanı kaynak olarak görmekten ziyade bir kıymet olarak görüyor ve tüm çalışanlarımıza kıymetli oldukları duygusunu yerleştirmeye çalışıyoruz.\" Kaynak: AA',\n",
              "  'label': 0}]"
            ]
          },
          "metadata": {},
          "execution_count": 24
        }
      ]
    },
    {
      "cell_type": "code",
      "source": [
        "#Modelin istediğ format dataset formatı olduğu için dönüştürüyoruz.\n",
        "from datasets import Dataset\n",
        "train_dataset = Dataset.from_list(train_text)\n",
        "test_dataset = Dataset.from_list(test_text)"
      ],
      "metadata": {
        "id": "v3ctMMFsBr9b"
      },
      "execution_count": 25,
      "outputs": []
    },
    {
      "cell_type": "code",
      "source": [
        "train_dataset[:2]"
      ],
      "metadata": {
        "colab": {
          "base_uri": "https://localhost:8080/"
        },
        "id": "67EXGDIKBsCx",
        "outputId": "d9e561c6-8959-4763-9dfa-f66a1bebf320"
      },
      "execution_count": 26,
      "outputs": [
        {
          "output_type": "execute_result",
          "data": {
            "text/plain": [
              "{'text': [\"Artistik buz pateni yarışmalarına koronavirüs engeli Türkiye Buz Pateni Federasyonundan yapılan açıklamada, ISU Konsey Toplantısı'nın ardından alınan kararlar doğrultusunda, Junior Grand Prix yarışmalarının sürdürülemeyeceği ve serinin tüm etkinliklerinin iptal edildiği ifade edildi. İptal kararının, sağlık komisyonunun önerileri ile etkinlik katılımcılarının güvenliği ve sağlığının gözetilerek alındığı belirtildi. Yeni sezon planlamasının ve diğer etkinliklerin ise 3 Ağustos'ta çevrim içi düzenlenecek toplantıda tekrar değerlendirileceği aktarıldı.\",\n",
              "  'ASELSAN \"en çekici işveren\" seçildi ASELSAN\\'dan yapılan açıklamaya göre, Universum 2018 Türkiye’nin Öğrenci ve Çalışan Y Kuşağı İçin En Çekici İşverenler Araştırması sonuçları açıklandı. Universum tarafından 61 ülkede 1,8 milyon genç ile yapılan En Çekici İşveren Araştırması\\'nın Türkiye ayağı, 6. yılında 46 üniversiteden 41 bin 117 öğrenci ve ortalama 3 yıldır iş hayatında olan 13 bin 116 genç profesyonelden edinilen bilgilerle hazırlandı. Araştırma, Harvard Business Review Türkiye Dergisi\\'nin Eylül sayısında yayımlandı. ASELSAN, araştırmada Google, Apple ve Microsoft’u geride bırakarak ilk sıradaki yerini korudu. Şirket, bir yıl önce yapılan araştırmada da Mühendislik/IT alanında en çok beğenilen şirket olmuştu. ASELSAN Yönetim Kurulu Başkanı ve Genel Müdürü Haluk Görgün araştırma sonucu ile ilgili yaptığı değerlendirmelerde, Türkiye’nin en çok çalışılmak istenen şirketi olmanın gurur verici olduğunu söyledi. \"Sadece Türkiye’nin en parlak gençlerini ASELSAN’a çekmek değil, aynı zamanda onların aşkla, sorumlulukla çalışacağı bir iklim yaratmak, sorumluluk hissettirmek ve her ASELSAN çalışanının, bu kültürün önemli bir mimarı olduğunun farkında olmasını sağlamak önceliklerimiz arasındadır. ASELSAN’da olmaktan gurur ve mutluluk duyan çalışanlarımız en güvenilir marka elçilerimizdir. İnsanı kaynak olarak görmekten ziyade bir kıymet olarak görüyor ve tüm çalışanlarımıza kıymetli oldukları duygusunu yerleştirmeye çalışıyoruz.\" Kaynak: AA'],\n",
              " 'label': [8, 0]}"
            ]
          },
          "metadata": {},
          "execution_count": 26
        }
      ]
    },
    {
      "cell_type": "code",
      "source": [
        "train_dataset #And we have texts and labels."
      ],
      "metadata": {
        "colab": {
          "base_uri": "https://localhost:8080/"
        },
        "id": "YxkV56bJus-3",
        "outputId": "89bfcd61-b6fa-4f9d-fd9d-f53d0431b132"
      },
      "execution_count": 27,
      "outputs": [
        {
          "output_type": "execute_result",
          "data": {
            "text/plain": [
              "Dataset({\n",
              "    features: ['text', 'label'],\n",
              "    num_rows: 28160\n",
              "})"
            ]
          },
          "metadata": {},
          "execution_count": 27
        }
      ]
    },
    {
      "cell_type": "markdown",
      "source": [
        "## Tokenization"
      ],
      "metadata": {
        "id": "M6j7iLglsaZf"
      }
    },
    {
      "cell_type": "code",
      "source": [
        "#for instance;\n",
        "\n",
        "sentence=\" How are you ? \"\n",
        "\n",
        "tokenized_data = tokenizer(  text=sentence,\n",
        "                             return_tensors=\"np\", #np dönüştür datayı hazırlama kısmı olduğu için np oldu, ilerde TF dönüştürecceğiz.\n",
        "                             padding=\"max_length\", #dolgulama işlemi\n",
        "                             truncation=True, #kırpma işlemi\n",
        "                             max_length=8, #max token sayısı\n",
        "                             add_special_tokens=True #[CLS],[SEP]\n",
        "                          )\n",
        "tokenized_data\n",
        "#3 vektörü(tensör) olmazsa hata verir.\n",
        "#Pre-trained modellere bir text verirken tek bir vektör şeklinde değil 3 vektör ile istiyor."
      ],
      "metadata": {
        "colab": {
          "base_uri": "https://localhost:8080/"
        },
        "id": "8QG2m5FwmbWW",
        "outputId": "ed3990a0-f094-48fd-9e4b-664ff602c55d"
      },
      "execution_count": 28,
      "outputs": [
        {
          "output_type": "execute_result",
          "data": {
            "text/plain": [
              "{'input_ids': array([[    2, 25223, 17379,  9751,    35,     3,     0,     0]]), 'token_type_ids': array([[0, 0, 0, 0, 0, 0, 0, 0]]), 'attention_mask': array([[1, 1, 1, 1, 1, 1, 0, 0]])}"
            ]
          },
          "metadata": {},
          "execution_count": 28
        }
      ]
    },
    {
      "cell_type": "code",
      "source": [
        "from transformers import AutoTokenizer\n",
        "import numpy as np\n",
        "\n",
        "tokenizer = AutoTokenizer.from_pretrained(\"dbmdz/bert-base-turkish-uncased\")\n",
        "def transformation(examples):\n",
        "  seq=512 #max token sayısı\n",
        "  tokenized_data = tokenizer(text=examples[\"text\"],\n",
        "                             return_tensors=\"np\", #np dönüştür\n",
        "                             padding=\"max_length\",\n",
        "                             truncation=True,\n",
        "                             max_length=seq, #512\n",
        "                             add_special_tokens=True)\n",
        "  return tokenized_data\n",
        "\n",
        "train_tokenized_data = train_dataset.map(transformation, batched=True) #batched dönüşüm işlemlerini çok daha hızlandırıyor\n",
        "test_tokenized_data = test_dataset.map(transformation, batched=True)"
      ],
      "metadata": {
        "colab": {
          "base_uri": "https://localhost:8080/",
          "height": 81,
          "referenced_widgets": [
            "d133746479714e23be76ce1fb00a6a14",
            "1ded5308f6df420c8e3cf9e0becec88e",
            "fcf34ea171124e648443f9199bbf4b78",
            "e0448ca793e74e3889b3774bdf6e76ce",
            "f9a1dd738992478ab5894ea780951726",
            "78ffab59195d495e9515e9396e066491",
            "03167292c4fb464894d169ea61361be7",
            "186de00a168d41af9d37a15bbae78b18",
            "9fb20629429342439f4e5f4012cac526",
            "61629161f5114a15a3e9e3465234dbf0",
            "01b30518489f43b39afd7efc6864d410",
            "d9e289dab38d4c838da6840ad74d0435",
            "6c6c0846d7bd432c93975df72615d004",
            "d6a68ace8c78448fbefc96eec39e91a6",
            "bc0c3d6c933d44b89832e14c2e49aba4",
            "54b5a97865ce4456857a034db35073e2",
            "f3f5735c250745e59381b6f1aa596d97",
            "af1ceef31f19402db0a3339d9979876b",
            "3093356900cc4cab9e2dca94fb445bc8",
            "d78bdb9f3bc64895b14afb4d50ee2722",
            "295caa5e9b5f4a8ba690f9df022e6a68",
            "1ee2909250674ea9807458044ed889c5"
          ]
        },
        "id": "7U8sTcfU-08b",
        "outputId": "3232473c-d7ee-48bb-f62d-efd9b2265659"
      },
      "execution_count": 29,
      "outputs": [
        {
          "output_type": "display_data",
          "data": {
            "text/plain": [
              "Map:   0%|          | 0/28160 [00:00<?, ? examples/s]"
            ],
            "application/vnd.jupyter.widget-view+json": {
              "version_major": 2,
              "version_minor": 0,
              "model_id": "d133746479714e23be76ce1fb00a6a14"
            }
          },
          "metadata": {}
        },
        {
          "output_type": "display_data",
          "data": {
            "text/plain": [
              "Map:   0%|          | 0/7040 [00:00<?, ? examples/s]"
            ],
            "application/vnd.jupyter.widget-view+json": {
              "version_major": 2,
              "version_minor": 0,
              "model_id": "d9e289dab38d4c838da6840ad74d0435"
            }
          },
          "metadata": {}
        }
      ]
    },
    {
      "cell_type": "code",
      "source": [
        "train_tokenized_data #3 vektörle birlikte geldi\n",
        "#Pre-trained modellere bir text verirken tek bir vektör şeklinde değil 3 vektör ile istiyor."
      ],
      "metadata": {
        "colab": {
          "base_uri": "https://localhost:8080/"
        },
        "id": "v8g8udLO4s3A",
        "outputId": "ebbdb473-249e-4819-a380-c4f72f54d814"
      },
      "execution_count": 30,
      "outputs": [
        {
          "output_type": "execute_result",
          "data": {
            "text/plain": [
              "Dataset({\n",
              "    features: ['text', 'label', 'input_ids', 'token_type_ids', 'attention_mask'],\n",
              "    num_rows: 28160\n",
              "})"
            ]
          },
          "metadata": {},
          "execution_count": 30
        }
      ]
    },
    {
      "cell_type": "code",
      "source": [
        "test_tokenized_data #3 vektörle birlikte geldi"
      ],
      "metadata": {
        "colab": {
          "base_uri": "https://localhost:8080/"
        },
        "id": "wprPHU-gCFkX",
        "outputId": "3bb263b4-2761-42e2-f8aa-c9c23dd0cf66"
      },
      "execution_count": 31,
      "outputs": [
        {
          "output_type": "execute_result",
          "data": {
            "text/plain": [
              "Dataset({\n",
              "    features: ['text', 'label', 'input_ids', 'token_type_ids', 'attention_mask'],\n",
              "    num_rows: 7040\n",
              "})"
            ]
          },
          "metadata": {},
          "execution_count": 31
        }
      ]
    },
    {
      "cell_type": "code",
      "source": [
        "train_tokenized_data[\"input_ids\"][:1] #512 e sabitleyecek şekilde doldurdu"
      ],
      "metadata": {
        "colab": {
          "base_uri": "https://localhost:8080/"
        },
        "id": "o7JP8W7ua492",
        "outputId": "a4c512cd-678c-4d20-ba2f-6773d7f726ce",
        "collapsed": true
      },
      "execution_count": 32,
      "outputs": [
        {
          "output_type": "execute_result",
          "data": {
            "text/plain": [
              "[[2,\n",
              "  2488,\n",
              "  4866,\n",
              "  5794,\n",
              "  3339,\n",
              "  2194,\n",
              "  5093,\n",
              "  10542,\n",
              "  5112,\n",
              "  2106,\n",
              "  27927,\n",
              "  8423,\n",
              "  1977,\n",
              "  2132,\n",
              "  25237,\n",
              "  23216,\n",
              "  5794,\n",
              "  3339,\n",
              "  2194,\n",
              "  7789,\n",
              "  17784,\n",
              "  2697,\n",
              "  20562,\n",
              "  2177,\n",
              "  1986,\n",
              "  16,\n",
              "  2578,\n",
              "  1013,\n",
              "  13843,\n",
              "  7134,\n",
              "  11,\n",
              "  2757,\n",
              "  3146,\n",
              "  4365,\n",
              "  10487,\n",
              "  18029,\n",
              "  1012,\n",
              "  3073,\n",
              "  14343,\n",
              "  16,\n",
              "  18011,\n",
              "  9078,\n",
              "  1024,\n",
              "  14400,\n",
              "  14683,\n",
              "  1076,\n",
              "  5093,\n",
              "  10542,\n",
              "  5112,\n",
              "  2196,\n",
              "  3304,\n",
              "  2553,\n",
              "  17634,\n",
              "  2663,\n",
              "  2098,\n",
              "  2287,\n",
              "  1992,\n",
              "  20051,\n",
              "  21155,\n",
              "  27814,\n",
              "  1973,\n",
              "  6021,\n",
              "  4396,\n",
              "  2287,\n",
              "  3069,\n",
              "  4396,\n",
              "  18,\n",
              "  6021,\n",
              "  12377,\n",
              "  16,\n",
              "  9752,\n",
              "  2090,\n",
              "  30946,\n",
              "  12496,\n",
              "  2819,\n",
              "  2068,\n",
              "  2081,\n",
              "  4539,\n",
              "  17642,\n",
              "  1976,\n",
              "  6856,\n",
              "  2521,\n",
              "  16282,\n",
              "  1992,\n",
              "  9752,\n",
              "  1991,\n",
              "  22565,\n",
              "  1014,\n",
              "  21540,\n",
              "  3025,\n",
              "  18840,\n",
              "  6475,\n",
              "  2958,\n",
              "  6797,\n",
              "  18,\n",
              "  2312,\n",
              "  3791,\n",
              "  22138,\n",
              "  10779,\n",
              "  1992,\n",
              "  17319,\n",
              "  27814,\n",
              "  2365,\n",
              "  23,\n",
              "  7996,\n",
              "  3566,\n",
              "  2249,\n",
              "  11,\n",
              "  2108,\n",
              "  3231,\n",
              "  5865,\n",
              "  4470,\n",
              "  1023,\n",
              "  27010,\n",
              "  1975,\n",
              "  15931,\n",
              "  8238,\n",
              "  3347,\n",
              "  19912,\n",
              "  2654,\n",
              "  2616,\n",
              "  2098,\n",
              "  2287,\n",
              "  31604,\n",
              "  18,\n",
              "  3,\n",
              "  0,\n",
              "  0,\n",
              "  0,\n",
              "  0,\n",
              "  0,\n",
              "  0,\n",
              "  0,\n",
              "  0,\n",
              "  0,\n",
              "  0,\n",
              "  0,\n",
              "  0,\n",
              "  0,\n",
              "  0,\n",
              "  0,\n",
              "  0,\n",
              "  0,\n",
              "  0,\n",
              "  0,\n",
              "  0,\n",
              "  0,\n",
              "  0,\n",
              "  0,\n",
              "  0,\n",
              "  0,\n",
              "  0,\n",
              "  0,\n",
              "  0,\n",
              "  0,\n",
              "  0,\n",
              "  0,\n",
              "  0,\n",
              "  0,\n",
              "  0,\n",
              "  0,\n",
              "  0,\n",
              "  0,\n",
              "  0,\n",
              "  0,\n",
              "  0,\n",
              "  0,\n",
              "  0,\n",
              "  0,\n",
              "  0,\n",
              "  0,\n",
              "  0,\n",
              "  0,\n",
              "  0,\n",
              "  0,\n",
              "  0,\n",
              "  0,\n",
              "  0,\n",
              "  0,\n",
              "  0,\n",
              "  0,\n",
              "  0,\n",
              "  0,\n",
              "  0,\n",
              "  0,\n",
              "  0,\n",
              "  0,\n",
              "  0,\n",
              "  0,\n",
              "  0,\n",
              "  0,\n",
              "  0,\n",
              "  0,\n",
              "  0,\n",
              "  0,\n",
              "  0,\n",
              "  0,\n",
              "  0,\n",
              "  0,\n",
              "  0,\n",
              "  0,\n",
              "  0,\n",
              "  0,\n",
              "  0,\n",
              "  0,\n",
              "  0,\n",
              "  0,\n",
              "  0,\n",
              "  0,\n",
              "  0,\n",
              "  0,\n",
              "  0,\n",
              "  0,\n",
              "  0,\n",
              "  0,\n",
              "  0,\n",
              "  0,\n",
              "  0,\n",
              "  0,\n",
              "  0,\n",
              "  0,\n",
              "  0,\n",
              "  0,\n",
              "  0,\n",
              "  0,\n",
              "  0,\n",
              "  0,\n",
              "  0,\n",
              "  0,\n",
              "  0,\n",
              "  0,\n",
              "  0,\n",
              "  0,\n",
              "  0,\n",
              "  0,\n",
              "  0,\n",
              "  0,\n",
              "  0,\n",
              "  0,\n",
              "  0,\n",
              "  0,\n",
              "  0,\n",
              "  0,\n",
              "  0,\n",
              "  0,\n",
              "  0,\n",
              "  0,\n",
              "  0,\n",
              "  0,\n",
              "  0,\n",
              "  0,\n",
              "  0,\n",
              "  0,\n",
              "  0,\n",
              "  0,\n",
              "  0,\n",
              "  0,\n",
              "  0,\n",
              "  0,\n",
              "  0,\n",
              "  0,\n",
              "  0,\n",
              "  0,\n",
              "  0,\n",
              "  0,\n",
              "  0,\n",
              "  0,\n",
              "  0,\n",
              "  0,\n",
              "  0,\n",
              "  0,\n",
              "  0,\n",
              "  0,\n",
              "  0,\n",
              "  0,\n",
              "  0,\n",
              "  0,\n",
              "  0,\n",
              "  0,\n",
              "  0,\n",
              "  0,\n",
              "  0,\n",
              "  0,\n",
              "  0,\n",
              "  0,\n",
              "  0,\n",
              "  0,\n",
              "  0,\n",
              "  0,\n",
              "  0,\n",
              "  0,\n",
              "  0,\n",
              "  0,\n",
              "  0,\n",
              "  0,\n",
              "  0,\n",
              "  0,\n",
              "  0,\n",
              "  0,\n",
              "  0,\n",
              "  0,\n",
              "  0,\n",
              "  0,\n",
              "  0,\n",
              "  0,\n",
              "  0,\n",
              "  0,\n",
              "  0,\n",
              "  0,\n",
              "  0,\n",
              "  0,\n",
              "  0,\n",
              "  0,\n",
              "  0,\n",
              "  0,\n",
              "  0,\n",
              "  0,\n",
              "  0,\n",
              "  0,\n",
              "  0,\n",
              "  0,\n",
              "  0,\n",
              "  0,\n",
              "  0,\n",
              "  0,\n",
              "  0,\n",
              "  0,\n",
              "  0,\n",
              "  0,\n",
              "  0,\n",
              "  0,\n",
              "  0,\n",
              "  0,\n",
              "  0,\n",
              "  0,\n",
              "  0,\n",
              "  0,\n",
              "  0,\n",
              "  0,\n",
              "  0,\n",
              "  0,\n",
              "  0,\n",
              "  0,\n",
              "  0,\n",
              "  0,\n",
              "  0,\n",
              "  0,\n",
              "  0,\n",
              "  0,\n",
              "  0,\n",
              "  0,\n",
              "  0,\n",
              "  0,\n",
              "  0,\n",
              "  0,\n",
              "  0,\n",
              "  0,\n",
              "  0,\n",
              "  0,\n",
              "  0,\n",
              "  0,\n",
              "  0,\n",
              "  0,\n",
              "  0,\n",
              "  0,\n",
              "  0,\n",
              "  0,\n",
              "  0,\n",
              "  0,\n",
              "  0,\n",
              "  0,\n",
              "  0,\n",
              "  0,\n",
              "  0,\n",
              "  0,\n",
              "  0,\n",
              "  0,\n",
              "  0,\n",
              "  0,\n",
              "  0,\n",
              "  0,\n",
              "  0,\n",
              "  0,\n",
              "  0,\n",
              "  0,\n",
              "  0,\n",
              "  0,\n",
              "  0,\n",
              "  0,\n",
              "  0,\n",
              "  0,\n",
              "  0,\n",
              "  0,\n",
              "  0,\n",
              "  0,\n",
              "  0,\n",
              "  0,\n",
              "  0,\n",
              "  0,\n",
              "  0,\n",
              "  0,\n",
              "  0,\n",
              "  0,\n",
              "  0,\n",
              "  0,\n",
              "  0,\n",
              "  0,\n",
              "  0,\n",
              "  0,\n",
              "  0,\n",
              "  0,\n",
              "  0,\n",
              "  0,\n",
              "  0,\n",
              "  0,\n",
              "  0,\n",
              "  0,\n",
              "  0,\n",
              "  0,\n",
              "  0,\n",
              "  0,\n",
              "  0,\n",
              "  0,\n",
              "  0,\n",
              "  0,\n",
              "  0,\n",
              "  0,\n",
              "  0,\n",
              "  0,\n",
              "  0,\n",
              "  0,\n",
              "  0,\n",
              "  0,\n",
              "  0,\n",
              "  0,\n",
              "  0,\n",
              "  0,\n",
              "  0,\n",
              "  0,\n",
              "  0,\n",
              "  0,\n",
              "  0,\n",
              "  0,\n",
              "  0,\n",
              "  0,\n",
              "  0,\n",
              "  0,\n",
              "  0,\n",
              "  0,\n",
              "  0,\n",
              "  0,\n",
              "  0,\n",
              "  0,\n",
              "  0,\n",
              "  0,\n",
              "  0,\n",
              "  0,\n",
              "  0,\n",
              "  0,\n",
              "  0,\n",
              "  0,\n",
              "  0,\n",
              "  0,\n",
              "  0,\n",
              "  0,\n",
              "  0,\n",
              "  0,\n",
              "  0,\n",
              "  0,\n",
              "  0,\n",
              "  0,\n",
              "  0,\n",
              "  0,\n",
              "  0,\n",
              "  0,\n",
              "  0,\n",
              "  0,\n",
              "  0,\n",
              "  0,\n",
              "  0,\n",
              "  0,\n",
              "  0,\n",
              "  0,\n",
              "  0,\n",
              "  0,\n",
              "  0,\n",
              "  0,\n",
              "  0,\n",
              "  0,\n",
              "  0,\n",
              "  0,\n",
              "  0,\n",
              "  0,\n",
              "  0,\n",
              "  0,\n",
              "  0,\n",
              "  0,\n",
              "  0,\n",
              "  0,\n",
              "  0,\n",
              "  0,\n",
              "  0,\n",
              "  0,\n",
              "  0,\n",
              "  0,\n",
              "  0,\n",
              "  0,\n",
              "  0,\n",
              "  0,\n",
              "  0,\n",
              "  0,\n",
              "  0]]"
            ]
          },
          "metadata": {},
          "execution_count": 32
        }
      ]
    },
    {
      "cell_type": "markdown",
      "source": [
        "## Create Optimizer and Training with TPU Cores"
      ],
      "metadata": {
        "id": "56G9dPPIsl5Z"
      }
    },
    {
      "cell_type": "code",
      "source": [
        "print(len(train_tokenized_data[\"input_ids\"])//32) #Tavsiye edilen batch_size 16(2^4),32(2^5) ne kadar küçükse o kadar iyi öğrenir.\n",
        "print(len(train_tokenized_data[\"input_ids\"])//16)\n",
        "#Modele 1 epochda(bir eğitimde)  kaç defa 32li paketler halinde vereceksin\n",
        "#Modele 880 defa 32 li paketleri besleyecek"
      ],
      "metadata": {
        "colab": {
          "base_uri": "https://localhost:8080/"
        },
        "id": "dKpw9bjHtC3t",
        "outputId": "5bd45186-76b8-4e3c-ef79-08b2786c4657"
      },
      "execution_count": 33,
      "outputs": [
        {
          "output_type": "stream",
          "name": "stdout",
          "text": [
            "880\n",
            "1760\n"
          ]
        }
      ]
    },
    {
      "cell_type": "code",
      "source": [
        "from transformers import create_optimizer #kendi optimezerımzıı kendimiz oluşturcaz\n",
        "\n",
        "batch_size = 32 #32, 16 kaçarlı paketler halinde vereceğiz\n",
        "num_train_epochs = 2 # 3, 4 modele besleme\n",
        "num_train_steps = (len(train_tokenized_data[\"input_ids\"]) // batch_size) * num_train_epochs #eğitim boyunca atacağımız adım sayısı 880*2epoch = 1760\n",
        "optimizer, lr_schedule = create_optimizer(\n",
        "                                          init_lr = 2e-5, #3e-5, 5e-5 learning_rate\n",
        "                                          num_train_steps= num_train_steps,\n",
        "                                          weight_decay_rate= 0.01, # Ağırlık küçülme oranı bu sayede over fite gitmeyi azaltıyoruz.\n",
        "                                          num_warmup_steps= 0.1) ## Isınma adımları sayısı\n",
        "                                          #num_warmup_steps= num_train_steps * 0.1 ilk %10luk kesimde bu şekilde overfite gitme düşük\n"
      ],
      "metadata": {
        "id": "5RxVvBMG66fX"
      },
      "execution_count": 67,
      "outputs": []
    },
    {
      "cell_type": "code",
      "source": [
        "optimizer"
      ],
      "metadata": {
        "colab": {
          "base_uri": "https://localhost:8080/"
        },
        "id": "0etNywV9Yctz",
        "outputId": "17c43efe-ec04-447c-fade-260a2e724157"
      },
      "execution_count": 68,
      "outputs": [
        {
          "output_type": "execute_result",
          "data": {
            "text/plain": [
              "<transformers.optimization_tf.AdamWeightDecay at 0x7c450ae8eec0>"
            ]
          },
          "metadata": {},
          "execution_count": 68
        }
      ]
    },
    {
      "cell_type": "code",
      "source": [
        "lr_schedule.get_config()"
      ],
      "metadata": {
        "colab": {
          "base_uri": "https://localhost:8080/"
        },
        "id": "qPWeCB9uYpo6",
        "outputId": "e5b011b4-2881-4772-ea72-8bfc9cd7642e"
      },
      "execution_count": 69,
      "outputs": [
        {
          "output_type": "execute_result",
          "data": {
            "text/plain": [
              "{'initial_learning_rate': 2e-05,\n",
              " 'decay_schedule_fn': <tf_keras.src.optimizers.schedules.learning_rate_schedule.PolynomialDecay at 0x7c450ae8fa30>,\n",
              " 'warmup_steps': 0.1,\n",
              " 'power': 1.0,\n",
              " 'name': None}"
            ]
          },
          "metadata": {},
          "execution_count": 69
        }
      ]
    },
    {
      "cell_type": "code",
      "source": [
        "optimizer.get_config()"
      ],
      "metadata": {
        "colab": {
          "base_uri": "https://localhost:8080/"
        },
        "id": "QaUgvkAO746o",
        "outputId": "2bdbb4d9-111e-4a40-9278-89f5c3590eb2"
      },
      "execution_count": 70,
      "outputs": [
        {
          "output_type": "execute_result",
          "data": {
            "text/plain": [
              "{'name': 'AdamWeightDecay',\n",
              " 'learning_rate': {'module': 'transformers.optimization_tf',\n",
              "  'class_name': 'WarmUp',\n",
              "  'config': {'initial_learning_rate': 2e-05,\n",
              "   'decay_schedule_fn': {'module': 'keras.optimizers.schedules',\n",
              "    'class_name': 'PolynomialDecay',\n",
              "    'config': {'initial_learning_rate': 2e-05,\n",
              "     'decay_steps': 1759.9,\n",
              "     'end_learning_rate': 0.0,\n",
              "     'power': 1.0,\n",
              "     'cycle': False,\n",
              "     'name': None},\n",
              "    'registered_name': None},\n",
              "   'warmup_steps': 0.1,\n",
              "   'power': 1.0,\n",
              "   'name': None},\n",
              "  'registered_name': 'WarmUp'},\n",
              " 'decay': 0.0,\n",
              " 'beta_1': 0.9,\n",
              " 'beta_2': 0.999,\n",
              " 'epsilon': 1e-08,\n",
              " 'amsgrad': False,\n",
              " 'weight_decay_rate': 0.01}"
            ]
          },
          "metadata": {},
          "execution_count": 70
        }
      ]
    },
    {
      "cell_type": "code",
      "source": [
        "#sadece TPU da kullanıyorsak bu koda bloğunu çalıştır\n",
        "with tpu_strategy.scope():\n",
        "\n",
        "    from transformers import TFAutoModelForSequenceClassification\n",
        "\n",
        "    #from tensorflow.keras.optimizers import AdamW\n",
        "    #from tensorflow.keras.losses import BinaryCrossentropy, CategoricalCrossentropy, SparseCategoricalCrossentropy\n",
        "\n",
        "    # Load and compile our model\n",
        "    model = TFAutoModelForSequenceClassification.from_pretrained(\"dbmdz/bert-base-turkish-uncased\",\n",
        "                                                                 num_labels=11)\n",
        "    # loss= SparseCategoricalCrossentropy(from_logits=True, reduction=tf.keras.losses.ReductionV2.NONE)\n",
        "\n",
        "\n",
        "    model.compile(optimizer=optimizer, metrics=[\"accuracy\"])  # No loss argument!"
      ],
      "metadata": {
        "colab": {
          "base_uri": "https://localhost:8080/"
        },
        "id": "wZ_S5FzZLg45",
        "outputId": "7986e30b-b9e6-46ad-ec71-f4ae26d34298"
      },
      "execution_count": 71,
      "outputs": [
        {
          "output_type": "stream",
          "name": "stderr",
          "text": [
            "All model checkpoint layers were used when initializing TFBertForSequenceClassification.\n",
            "\n",
            "Some layers of TFBertForSequenceClassification were not initialized from the model checkpoint at dbmdz/bert-base-turkish-uncased and are newly initialized: ['classifier']\n",
            "You should probably TRAIN this model on a down-stream task to be able to use it for predictions and inference.\n"
          ]
        }
      ]
    },
    {
      "cell_type": "code",
      "source": [
        "#TPU sadece tensorflowda çalıştığı için datasetini tensorflow tensorlerine dönüştürüyor.(prepare_tf_dataset)\n",
        "tf_dataset_train = model.prepare_tf_dataset(train_tokenized_data, batch_size=32, shuffle=False) #yukarda bahtch size ne ise burda da o olmalı\n",
        "tf_dataset_test = model.prepare_tf_dataset(test_tokenized_data, batch_size=32, shuffle=False) #shuffle yapınca skorları alması zorlaşıyor."
      ],
      "metadata": {
        "id": "xLfUaMW0CNYn"
      },
      "execution_count": 72,
      "outputs": []
    },
    {
      "cell_type": "code",
      "source": [
        "tf_dataset_train #TensorFlow tensorlerine dönüştürmüş, None yerine 32 yazmalı ama 32 tam bölünmediği için None yazıyor.\n",
        "#En sonda label id yazmamış zaten blyor"
      ],
      "metadata": {
        "colab": {
          "base_uri": "https://localhost:8080/"
        },
        "id": "ohk7VaVxRC-s",
        "outputId": "d6958306-f753-4780-dd77-accf59f63c43"
      },
      "execution_count": 73,
      "outputs": [
        {
          "output_type": "execute_result",
          "data": {
            "text/plain": [
              "<_PrefetchDataset element_spec=({'input_ids': TensorSpec(shape=(None, 512), dtype=tf.int64, name=None), 'token_type_ids': TensorSpec(shape=(None, 512), dtype=tf.int64, name=None), 'attention_mask': TensorSpec(shape=(None, 512), dtype=tf.int64, name=None)}, TensorSpec(shape=(None,), dtype=tf.float32, name=None))>"
            ]
          },
          "metadata": {},
          "execution_count": 73
        }
      ]
    },
    {
      "cell_type": "code",
      "source": [
        "model.fit(tf_dataset_train,\n",
        "          validation_data=(tf_dataset_test),\n",
        "          epochs=num_train_epochs)\n",
        "\n",
        "#sürümden dolayı hata veriyor. Kütüphaneler arasındaki uyumu bozmamak için güncellemiyoruz"
      ],
      "metadata": {
        "colab": {
          "base_uri": "https://localhost:8080/"
        },
        "id": "OjCXXLCk_Yq-",
        "outputId": "48eb0034-5cb2-447b-f084-3843a704a810"
      },
      "execution_count": 74,
      "outputs": [
        {
          "output_type": "stream",
          "name": "stdout",
          "text": [
            "Epoch 1/2\n",
            "880/880 [==============================] - 286s 206ms/step - loss: 0.7399 - accuracy: 0.7668 - val_loss: 0.5072 - val_accuracy: 0.8287\n",
            "Epoch 2/2\n",
            "880/880 [==============================] - 164s 186ms/step - loss: 0.4133 - accuracy: 0.8656 - val_loss: 0.4742 - val_accuracy: 0.8435\n"
          ]
        },
        {
          "output_type": "execute_result",
          "data": {
            "text/plain": [
              "<tf_keras.src.callbacks.History at 0x7c44a4d1ad40>"
            ]
          },
          "metadata": {},
          "execution_count": 74
        }
      ]
    },
    {
      "cell_type": "code",
      "source": [
        "#epoch sayısı ilerlediği zaman ilk değerler gerçeği yansıtmaya başlıyor. Modeli ne kadar beslersek o kadar iyi öğrenir.\n",
        "#Overfitting olmamasına dikkat etmek gerekiyor !"
      ],
      "metadata": {
        "id": "uVZF_DnubjR1"
      },
      "execution_count": null,
      "outputs": []
    },
    {
      "cell_type": "code",
      "source": [
        "model.summary()"
      ],
      "metadata": {
        "colab": {
          "base_uri": "https://localhost:8080/"
        },
        "id": "6EyepEozg--G",
        "outputId": "9cba3ac2-94ed-4e87-e08d-68e14a55e056"
      },
      "execution_count": 75,
      "outputs": [
        {
          "output_type": "stream",
          "name": "stdout",
          "text": [
            "Model: \"tf_bert_for_sequence_classification_2\"\n",
            "_________________________________________________________________\n",
            " Layer (type)                Output Shape              Param #   \n",
            "=================================================================\n",
            " bert (TFBertMainLayer)      multiple                  110617344 \n",
            "                                                                 \n",
            " dropout_113 (Dropout)       multiple                  0         \n",
            "                                                                 \n",
            " classifier (Dense)          multiple                  8459      \n",
            "                                                                 \n",
            "=================================================================\n",
            "Total params: 110625803 (422.00 MB)\n",
            "Trainable params: 110625803 (422.00 MB)\n",
            "Non-trainable params: 0 (0.00 Byte)\n",
            "_________________________________________________________________\n"
          ]
        }
      ]
    },
    {
      "cell_type": "markdown",
      "source": [
        "## Evaluation"
      ],
      "metadata": {
        "id": "Czk7NGfYvjN9"
      }
    },
    {
      "cell_type": "code",
      "source": [
        "model_loss = pd.DataFrame(model.history.history)\n",
        "model_loss.head()"
      ],
      "metadata": {
        "colab": {
          "base_uri": "https://localhost:8080/",
          "height": 112
        },
        "id": "T-lsKuqIGkRJ",
        "outputId": "8720a25c-e0b1-458a-c3d4-5da11c52749a"
      },
      "execution_count": 76,
      "outputs": [
        {
          "output_type": "execute_result",
          "data": {
            "text/plain": [
              "       loss  accuracy  val_loss  val_accuracy\n",
              "0  0.739859  0.766797  0.507217      0.828693\n",
              "1  0.413323  0.865625  0.474160      0.843466"
            ],
            "text/html": [
              "\n",
              "  <div id=\"df-59f17650-4155-4400-8f4e-007071a26de7\" class=\"colab-df-container\">\n",
              "    <div>\n",
              "<style scoped>\n",
              "    .dataframe tbody tr th:only-of-type {\n",
              "        vertical-align: middle;\n",
              "    }\n",
              "\n",
              "    .dataframe tbody tr th {\n",
              "        vertical-align: top;\n",
              "    }\n",
              "\n",
              "    .dataframe thead th {\n",
              "        text-align: right;\n",
              "    }\n",
              "</style>\n",
              "<table border=\"1\" class=\"dataframe\">\n",
              "  <thead>\n",
              "    <tr style=\"text-align: right;\">\n",
              "      <th></th>\n",
              "      <th>loss</th>\n",
              "      <th>accuracy</th>\n",
              "      <th>val_loss</th>\n",
              "      <th>val_accuracy</th>\n",
              "    </tr>\n",
              "  </thead>\n",
              "  <tbody>\n",
              "    <tr>\n",
              "      <th>0</th>\n",
              "      <td>0.739859</td>\n",
              "      <td>0.766797</td>\n",
              "      <td>0.507217</td>\n",
              "      <td>0.828693</td>\n",
              "    </tr>\n",
              "    <tr>\n",
              "      <th>1</th>\n",
              "      <td>0.413323</td>\n",
              "      <td>0.865625</td>\n",
              "      <td>0.474160</td>\n",
              "      <td>0.843466</td>\n",
              "    </tr>\n",
              "  </tbody>\n",
              "</table>\n",
              "</div>\n",
              "    <div class=\"colab-df-buttons\">\n",
              "\n",
              "  <div class=\"colab-df-container\">\n",
              "    <button class=\"colab-df-convert\" onclick=\"convertToInteractive('df-59f17650-4155-4400-8f4e-007071a26de7')\"\n",
              "            title=\"Convert this dataframe to an interactive table.\"\n",
              "            style=\"display:none;\">\n",
              "\n",
              "  <svg xmlns=\"http://www.w3.org/2000/svg\" height=\"24px\" viewBox=\"0 -960 960 960\">\n",
              "    <path d=\"M120-120v-720h720v720H120Zm60-500h600v-160H180v160Zm220 220h160v-160H400v160Zm0 220h160v-160H400v160ZM180-400h160v-160H180v160Zm440 0h160v-160H620v160ZM180-180h160v-160H180v160Zm440 0h160v-160H620v160Z\"/>\n",
              "  </svg>\n",
              "    </button>\n",
              "\n",
              "  <style>\n",
              "    .colab-df-container {\n",
              "      display:flex;\n",
              "      gap: 12px;\n",
              "    }\n",
              "\n",
              "    .colab-df-convert {\n",
              "      background-color: #E8F0FE;\n",
              "      border: none;\n",
              "      border-radius: 50%;\n",
              "      cursor: pointer;\n",
              "      display: none;\n",
              "      fill: #1967D2;\n",
              "      height: 32px;\n",
              "      padding: 0 0 0 0;\n",
              "      width: 32px;\n",
              "    }\n",
              "\n",
              "    .colab-df-convert:hover {\n",
              "      background-color: #E2EBFA;\n",
              "      box-shadow: 0px 1px 2px rgba(60, 64, 67, 0.3), 0px 1px 3px 1px rgba(60, 64, 67, 0.15);\n",
              "      fill: #174EA6;\n",
              "    }\n",
              "\n",
              "    .colab-df-buttons div {\n",
              "      margin-bottom: 4px;\n",
              "    }\n",
              "\n",
              "    [theme=dark] .colab-df-convert {\n",
              "      background-color: #3B4455;\n",
              "      fill: #D2E3FC;\n",
              "    }\n",
              "\n",
              "    [theme=dark] .colab-df-convert:hover {\n",
              "      background-color: #434B5C;\n",
              "      box-shadow: 0px 1px 3px 1px rgba(0, 0, 0, 0.15);\n",
              "      filter: drop-shadow(0px 1px 2px rgba(0, 0, 0, 0.3));\n",
              "      fill: #FFFFFF;\n",
              "    }\n",
              "  </style>\n",
              "\n",
              "    <script>\n",
              "      const buttonEl =\n",
              "        document.querySelector('#df-59f17650-4155-4400-8f4e-007071a26de7 button.colab-df-convert');\n",
              "      buttonEl.style.display =\n",
              "        google.colab.kernel.accessAllowed ? 'block' : 'none';\n",
              "\n",
              "      async function convertToInteractive(key) {\n",
              "        const element = document.querySelector('#df-59f17650-4155-4400-8f4e-007071a26de7');\n",
              "        const dataTable =\n",
              "          await google.colab.kernel.invokeFunction('convertToInteractive',\n",
              "                                                    [key], {});\n",
              "        if (!dataTable) return;\n",
              "\n",
              "        const docLinkHtml = 'Like what you see? Visit the ' +\n",
              "          '<a target=\"_blank\" href=https://colab.research.google.com/notebooks/data_table.ipynb>data table notebook</a>'\n",
              "          + ' to learn more about interactive tables.';\n",
              "        element.innerHTML = '';\n",
              "        dataTable['output_type'] = 'display_data';\n",
              "        await google.colab.output.renderOutput(dataTable, element);\n",
              "        const docLink = document.createElement('div');\n",
              "        docLink.innerHTML = docLinkHtml;\n",
              "        element.appendChild(docLink);\n",
              "      }\n",
              "    </script>\n",
              "  </div>\n",
              "\n",
              "\n",
              "<div id=\"df-45fc4ecd-2e85-46f8-915f-7eecad27096d\">\n",
              "  <button class=\"colab-df-quickchart\" onclick=\"quickchart('df-45fc4ecd-2e85-46f8-915f-7eecad27096d')\"\n",
              "            title=\"Suggest charts\"\n",
              "            style=\"display:none;\">\n",
              "\n",
              "<svg xmlns=\"http://www.w3.org/2000/svg\" height=\"24px\"viewBox=\"0 0 24 24\"\n",
              "     width=\"24px\">\n",
              "    <g>\n",
              "        <path d=\"M19 3H5c-1.1 0-2 .9-2 2v14c0 1.1.9 2 2 2h14c1.1 0 2-.9 2-2V5c0-1.1-.9-2-2-2zM9 17H7v-7h2v7zm4 0h-2V7h2v10zm4 0h-2v-4h2v4z\"/>\n",
              "    </g>\n",
              "</svg>\n",
              "  </button>\n",
              "\n",
              "<style>\n",
              "  .colab-df-quickchart {\n",
              "      --bg-color: #E8F0FE;\n",
              "      --fill-color: #1967D2;\n",
              "      --hover-bg-color: #E2EBFA;\n",
              "      --hover-fill-color: #174EA6;\n",
              "      --disabled-fill-color: #AAA;\n",
              "      --disabled-bg-color: #DDD;\n",
              "  }\n",
              "\n",
              "  [theme=dark] .colab-df-quickchart {\n",
              "      --bg-color: #3B4455;\n",
              "      --fill-color: #D2E3FC;\n",
              "      --hover-bg-color: #434B5C;\n",
              "      --hover-fill-color: #FFFFFF;\n",
              "      --disabled-bg-color: #3B4455;\n",
              "      --disabled-fill-color: #666;\n",
              "  }\n",
              "\n",
              "  .colab-df-quickchart {\n",
              "    background-color: var(--bg-color);\n",
              "    border: none;\n",
              "    border-radius: 50%;\n",
              "    cursor: pointer;\n",
              "    display: none;\n",
              "    fill: var(--fill-color);\n",
              "    height: 32px;\n",
              "    padding: 0;\n",
              "    width: 32px;\n",
              "  }\n",
              "\n",
              "  .colab-df-quickchart:hover {\n",
              "    background-color: var(--hover-bg-color);\n",
              "    box-shadow: 0 1px 2px rgba(60, 64, 67, 0.3), 0 1px 3px 1px rgba(60, 64, 67, 0.15);\n",
              "    fill: var(--button-hover-fill-color);\n",
              "  }\n",
              "\n",
              "  .colab-df-quickchart-complete:disabled,\n",
              "  .colab-df-quickchart-complete:disabled:hover {\n",
              "    background-color: var(--disabled-bg-color);\n",
              "    fill: var(--disabled-fill-color);\n",
              "    box-shadow: none;\n",
              "  }\n",
              "\n",
              "  .colab-df-spinner {\n",
              "    border: 2px solid var(--fill-color);\n",
              "    border-color: transparent;\n",
              "    border-bottom-color: var(--fill-color);\n",
              "    animation:\n",
              "      spin 1s steps(1) infinite;\n",
              "  }\n",
              "\n",
              "  @keyframes spin {\n",
              "    0% {\n",
              "      border-color: transparent;\n",
              "      border-bottom-color: var(--fill-color);\n",
              "      border-left-color: var(--fill-color);\n",
              "    }\n",
              "    20% {\n",
              "      border-color: transparent;\n",
              "      border-left-color: var(--fill-color);\n",
              "      border-top-color: var(--fill-color);\n",
              "    }\n",
              "    30% {\n",
              "      border-color: transparent;\n",
              "      border-left-color: var(--fill-color);\n",
              "      border-top-color: var(--fill-color);\n",
              "      border-right-color: var(--fill-color);\n",
              "    }\n",
              "    40% {\n",
              "      border-color: transparent;\n",
              "      border-right-color: var(--fill-color);\n",
              "      border-top-color: var(--fill-color);\n",
              "    }\n",
              "    60% {\n",
              "      border-color: transparent;\n",
              "      border-right-color: var(--fill-color);\n",
              "    }\n",
              "    80% {\n",
              "      border-color: transparent;\n",
              "      border-right-color: var(--fill-color);\n",
              "      border-bottom-color: var(--fill-color);\n",
              "    }\n",
              "    90% {\n",
              "      border-color: transparent;\n",
              "      border-bottom-color: var(--fill-color);\n",
              "    }\n",
              "  }\n",
              "</style>\n",
              "\n",
              "  <script>\n",
              "    async function quickchart(key) {\n",
              "      const quickchartButtonEl =\n",
              "        document.querySelector('#' + key + ' button');\n",
              "      quickchartButtonEl.disabled = true;  // To prevent multiple clicks.\n",
              "      quickchartButtonEl.classList.add('colab-df-spinner');\n",
              "      try {\n",
              "        const charts = await google.colab.kernel.invokeFunction(\n",
              "            'suggestCharts', [key], {});\n",
              "      } catch (error) {\n",
              "        console.error('Error during call to suggestCharts:', error);\n",
              "      }\n",
              "      quickchartButtonEl.classList.remove('colab-df-spinner');\n",
              "      quickchartButtonEl.classList.add('colab-df-quickchart-complete');\n",
              "    }\n",
              "    (() => {\n",
              "      let quickchartButtonEl =\n",
              "        document.querySelector('#df-45fc4ecd-2e85-46f8-915f-7eecad27096d button');\n",
              "      quickchartButtonEl.style.display =\n",
              "        google.colab.kernel.accessAllowed ? 'block' : 'none';\n",
              "    })();\n",
              "  </script>\n",
              "</div>\n",
              "\n",
              "    </div>\n",
              "  </div>\n"
            ],
            "application/vnd.google.colaboratory.intrinsic+json": {
              "type": "dataframe",
              "variable_name": "model_loss",
              "summary": "{\n  \"name\": \"model_loss\",\n  \"rows\": 2,\n  \"fields\": [\n    {\n      \"column\": \"loss\",\n      \"properties\": {\n        \"dtype\": \"number\",\n        \"std\": 0.2308955247144444,\n        \"min\": 0.41332316398620605,\n        \"max\": 0.7398587465286255,\n        \"num_unique_values\": 2,\n        \"samples\": [\n          0.41332316398620605,\n          0.7398587465286255\n        ],\n        \"semantic_type\": \"\",\n        \"description\": \"\"\n      }\n    },\n    {\n      \"column\": \"accuracy\",\n      \"properties\": {\n        \"dtype\": \"number\",\n        \"std\": 0.06988204578882147,\n        \"min\": 0.766796886920929,\n        \"max\": 0.8656250238418579,\n        \"num_unique_values\": 2,\n        \"samples\": [\n          0.8656250238418579,\n          0.766796886920929\n        ],\n        \"semantic_type\": \"\",\n        \"description\": \"\"\n      }\n    },\n    {\n      \"column\": \"val_loss\",\n      \"properties\": {\n        \"dtype\": \"number\",\n        \"std\": 0.023375084726051196,\n        \"min\": 0.4741600453853607,\n        \"max\": 0.5072174072265625,\n        \"num_unique_values\": 2,\n        \"samples\": [\n          0.4741600453853607,\n          0.5072174072265625\n        ],\n        \"semantic_type\": \"\",\n        \"description\": \"\"\n      }\n    },\n    {\n      \"column\": \"val_accuracy\",\n      \"properties\": {\n        \"dtype\": \"number\",\n        \"std\": 0.01044588566918253,\n        \"min\": 0.8286932110786438,\n        \"max\": 0.8434659242630005,\n        \"num_unique_values\": 2,\n        \"samples\": [\n          0.8434659242630005,\n          0.8286932110786438\n        ],\n        \"semantic_type\": \"\",\n        \"description\": \"\"\n      }\n    }\n  ]\n}"
            }
          },
          "metadata": {},
          "execution_count": 76
        }
      ]
    },
    {
      "cell_type": "code",
      "source": [
        "model_loss.plot()"
      ],
      "metadata": {
        "colab": {
          "base_uri": "https://localhost:8080/",
          "height": 448
        },
        "id": "kC0FCOT8A2Ge",
        "outputId": "f0d42a88-6547-4579-ebb6-3b1011e162b7"
      },
      "execution_count": 77,
      "outputs": [
        {
          "output_type": "execute_result",
          "data": {
            "text/plain": [
              "<Axes: >"
            ]
          },
          "metadata": {},
          "execution_count": 77
        },
        {
          "output_type": "display_data",
          "data": {
            "text/plain": [
              "<Figure size 640x480 with 1 Axes>"
            ],
            "image/png": "[encoded data removed]"
          },
          "metadata": {}
        }
      ]
    },
    {
      "cell_type": "markdown",
      "source": [
        "\"Logits\" terimi, derin öğrenme modelleri ve sinir ağlarında sıkça kullanılan bir terimdir. Logits, modelin son katmanından çıkan, genellikle bir doğrusal dönüşüm ve bir aktivasyon fonksiyonundan önceki ham puanları ifade eder.\n",
        "\n",
        "Bir sınıflandırma probleminde, logits çıktıları genellikle aşağıdaki gibi yorumlanır:\n",
        "\n",
        "- **Çok sınıflı sınıflandırma**: Modelin farklı sınıflar için hesapladığı ham puanlar. Bu puanlar, genellikle softmax fonksiyonu uygulanarak olasılıklara dönüştürülür.\n",
        "- **İkili sınıflandırma**: İki sınıf arasındaki karar sınırını belirlemek için kullanılan ham puanlar. Bu puanlar, sigmoid fonksiyonu ile olasılıklara dönüştürülür.\n",
        "\n",
        "Logits değerlerini anlamak için şu adımları izleyebilirsiniz:\n",
        "1. **Softmax Uygulama**: Logits değerlerini olasılıklara dönüştürmek için softmax fonksiyonunu kullanabilirsiniz. Bu, her sınıf için olasılıkların toplamının 1 olmasını sağlar.\n",
        "2. **Tahmin**: En yüksek olasılığa sahip sınıf, modelin tahmini olarak seçilir."
      ],
      "metadata": {
        "id": "Dm5Y0iD_dfR8"
      }
    },
    {
      "cell_type": "code",
      "source": [
        "logits= model.predict(tf_dataset_test)\n",
        "logits"
      ],
      "metadata": {
        "colab": {
          "base_uri": "https://localhost:8080/"
        },
        "id": "I2g6BnkzA2TE",
        "outputId": "f28d14d8-2c07-4217-ada0-405340fb947e"
      },
      "execution_count": 78,
      "outputs": [
        {
          "output_type": "stream",
          "name": "stdout",
          "text": [
            "220/220 [==============================] - 28s 53ms/step\n"
          ]
        },
        {
          "output_type": "execute_result",
          "data": {
            "text/plain": [
              "TFSequenceClassifierOutput(loss=None, logits=array([[ 1.809303  , -1.3702545 , -1.0316867 , ..., -1.8097322 ,\n",
              "        -0.19451556, -1.1625067 ],\n",
              "       [-2.119552  , -2.457046  , -0.78798264, ..., -1.1254185 ,\n",
              "         4.65564   , -0.27660283],\n",
              "       [-2.1878183 , -1.515945  , -1.7320825 , ..., -1.1634564 ,\n",
              "         5.486226  ,  0.70159537],\n",
              "       ...,\n",
              "       [ 2.8476357 , -1.2693425 , -1.5469625 , ..., -1.6706407 ,\n",
              "        -0.04113184, -1.6759777 ],\n",
              "       [-0.30672416,  0.21066579, -0.7717872 , ...,  6.951844  ,\n",
              "        -0.9557444 , -0.45561403],\n",
              "       [ 4.7467346 , -0.38428953,  1.0579066 , ..., -1.63537   ,\n",
              "        -2.1061788 ,  1.8573753 ]], dtype=float32), hidden_states=None, attentions=None)"
            ]
          },
          "metadata": {},
          "execution_count": 78
        }
      ]
    },
    {
      "cell_type": "code",
      "source": [
        "logits.logits"
      ],
      "metadata": {
        "colab": {
          "base_uri": "https://localhost:8080/"
        },
        "id": "5gonZaFbA_jI",
        "outputId": "90eb1153-c704-402a-c354-a5f83d2482c1"
      },
      "execution_count": 79,
      "outputs": [
        {
          "output_type": "execute_result",
          "data": {
            "text/plain": [
              "array([[ 1.809303  , -1.3702545 , -1.0316867 , ..., -1.8097322 ,\n",
              "        -0.19451556, -1.1625067 ],\n",
              "       [-2.119552  , -2.457046  , -0.78798264, ..., -1.1254185 ,\n",
              "         4.65564   , -0.27660283],\n",
              "       [-2.1878183 , -1.515945  , -1.7320825 , ..., -1.1634564 ,\n",
              "         5.486226  ,  0.70159537],\n",
              "       ...,\n",
              "       [ 2.8476357 , -1.2693425 , -1.5469625 , ..., -1.6706407 ,\n",
              "        -0.04113184, -1.6759777 ],\n",
              "       [-0.30672416,  0.21066579, -0.7717872 , ...,  6.951844  ,\n",
              "        -0.9557444 , -0.45561403],\n",
              "       [ 4.7467346 , -0.38428953,  1.0579066 , ..., -1.63537   ,\n",
              "        -2.1061788 ,  1.8573753 ]], dtype=float32)"
            ]
          },
          "metadata": {},
          "execution_count": 79
        }
      ]
    },
    {
      "cell_type": "code",
      "source": [
        "logits.logits[0]"
      ],
      "metadata": {
        "colab": {
          "base_uri": "https://localhost:8080/"
        },
        "id": "ufyTAyccw3-d",
        "outputId": "574f21e0-a6c7-4e51-d8a0-5bf4c062d295"
      },
      "execution_count": 80,
      "outputs": [
        {
          "output_type": "execute_result",
          "data": {
            "text/plain": [
              "array([ 1.809303  , -1.3702545 , -1.0316867 ,  4.582952  , -0.9497315 ,\n",
              "        1.7878413 , -1.5044726 , -0.69060075, -1.8097322 , -0.19451556,\n",
              "       -1.1625067 ], dtype=float32)"
            ]
          },
          "metadata": {},
          "execution_count": 80
        }
      ]
    },
    {
      "cell_type": "code",
      "source": [
        "import tensorflow as tf\n",
        "\n",
        "probabilities = tf.nn.softmax(logits.logits, axis=-1).numpy()\n",
        "\n",
        "probabilities"
      ],
      "metadata": {
        "colab": {
          "base_uri": "https://localhost:8080/"
        },
        "id": "sB3kV7XqBJci",
        "outputId": "6c4e9310-72a8-4082-b279-71b52f627fa5"
      },
      "execution_count": 81,
      "outputs": [
        {
          "output_type": "execute_result",
          "data": {
            "text/plain": [
              "array([[5.4082189e-02, 2.2500388e-03, 3.1566620e-03, ..., 1.4498644e-03,\n",
              "        7.2913314e-03, 2.7695792e-03],\n",
              "       [7.7862083e-04, 5.5558985e-04, 2.9486241e-03, ..., 2.1041308e-03,\n",
              "        6.8195331e-01, 4.9170973e-03],\n",
              "       [4.2757328e-04, 8.3714671e-04, 6.7442597e-04, ..., 1.1909276e-03,\n",
              "        9.2003804e-01, 7.6889503e-03],\n",
              "       ...,\n",
              "       [2.9316112e-01, 4.7766725e-03, 3.6187326e-03, ..., 3.1977443e-03,\n",
              "        1.6312879e-02, 3.1807241e-03],\n",
              "       [6.9994718e-04, 1.1742614e-03, 4.3963364e-04, ..., 9.9408013e-01,\n",
              "        3.6576265e-04, 6.0311920e-04],\n",
              "       [8.9026189e-01, 5.2618952e-03, 2.2257693e-02, ..., 1.5059303e-03,\n",
              "        9.4044913e-04, 4.9509086e-02]], dtype=float32)"
            ]
          },
          "metadata": {},
          "execution_count": 81
        }
      ]
    },
    {
      "cell_type": "code",
      "source": [
        "y_pred=np.argmax(probabilities, axis=1)\n",
        "y_pred"
      ],
      "metadata": {
        "colab": {
          "base_uri": "https://localhost:8080/"
        },
        "id": "Ih1IoT7uBUnn",
        "outputId": "e77c8d79-a87b-4fab-9698-0f775f4c76da"
      },
      "execution_count": 82,
      "outputs": [
        {
          "output_type": "execute_result",
          "data": {
            "text/plain": [
              "array([3, 9, 9, ..., 3, 8, 0])"
            ]
          },
          "metadata": {},
          "execution_count": 82
        }
      ]
    },
    {
      "cell_type": "code",
      "source": [
        "def classification(tokenized_data):\n",
        "  import tensorflow as tf\n",
        "  import numpy as np\n",
        "\n",
        "  logits= model.predict(tokenized_data)\n",
        "  probabilities = tf.nn.softmax(logits.logits, axis=-1).numpy()\n",
        "  y_pred = np.argmax(probabilities, axis=1)\n",
        "  return y_pred"
      ],
      "metadata": {
        "id": "CfmarrXdB7k-"
      },
      "execution_count": 83,
      "outputs": []
    },
    {
      "cell_type": "code",
      "source": [
        "from sklearn.metrics import classification_report, confusion_matrix\n",
        "y_pred=classification(tf_dataset_test)\n",
        "print(classification_report(y_test, y_pred, target_names=unique_labels))"
      ],
      "metadata": {
        "colab": {
          "base_uri": "https://localhost:8080/"
        },
        "id": "Za4DhRTFb2mf",
        "outputId": "6c3b5a35-c56c-4a4c-c1de-fa80e3c62c93"
      },
      "execution_count": 84,
      "outputs": [
        {
          "output_type": "stream",
          "name": "stdout",
          "text": [
            "220/220 [==============================] - 14s 53ms/step\n",
            "                 precision    recall  f1-score   support\n",
            "\n",
            "bilim_teknoloji       0.84      0.92      0.88       640\n",
            "          dunya       0.92      0.88      0.90       640\n",
            "         egitim       0.90      0.95      0.93       640\n",
            "        ekonomi       0.83      0.88      0.85       640\n",
            "         guncel       0.79      0.80      0.79       640\n",
            "         gundem       0.83      0.74      0.78       640\n",
            "   kultur_sanat       0.81      0.90      0.85       640\n",
            "         saglik       0.84      0.88      0.86       640\n",
            "           spor       0.98      0.97      0.98       640\n",
            "        turkiye       0.75      0.68      0.71       640\n",
            "          yasam       0.77      0.69      0.72       640\n",
            "\n",
            "       accuracy                           0.84      7040\n",
            "      macro avg       0.84      0.84      0.84      7040\n",
            "   weighted avg       0.84      0.84      0.84      7040\n",
            "\n"
          ]
        }
      ]
    },
    {
      "cell_type": "code",
      "source": [
        "y_train_pred=classification(tf_dataset_train)\n",
        "print(classification_report(y_train, y_train_pred, target_names=unique_labels))"
      ],
      "metadata": {
        "colab": {
          "base_uri": "https://localhost:8080/"
        },
        "id": "juDuQ9OWCe0n",
        "outputId": "c075430b-b9d8-4ef6-d3b1-8a419b932ebc"
      },
      "execution_count": 85,
      "outputs": [
        {
          "output_type": "stream",
          "name": "stdout",
          "text": [
            "880/880 [==============================] - 48s 53ms/step\n",
            "                 precision    recall  f1-score   support\n",
            "\n",
            "bilim_teknoloji       0.89      0.95      0.92      2560\n",
            "          dunya       0.96      0.91      0.93      2560\n",
            "         egitim       0.91      0.97      0.94      2560\n",
            "        ekonomi       0.88      0.92      0.90      2560\n",
            "         guncel       0.86      0.85      0.85      2560\n",
            "         gundem       0.87      0.80      0.83      2560\n",
            "   kultur_sanat       0.85      0.94      0.90      2560\n",
            "         saglik       0.89      0.93      0.91      2560\n",
            "           spor       0.99      0.99      0.99      2560\n",
            "        turkiye       0.85      0.76      0.80      2560\n",
            "          yasam       0.84      0.77      0.80      2560\n",
            "\n",
            "       accuracy                           0.89     28160\n",
            "      macro avg       0.89      0.89      0.89     28160\n",
            "   weighted avg       0.89      0.89      0.89     28160\n",
            "\n"
          ]
        }
      ]
    },
    {
      "cell_type": "markdown",
      "source": [
        "## Saving and Loading The Model"
      ],
      "metadata": {
        "id": "Ma1lX1UdxJj2"
      }
    },
    {
      "cell_type": "code",
      "source": [
        "model.save_pretrained(\"/content/drive/MyDrive/NLP-Profissionals/saved_model\")"
      ],
      "metadata": {
        "id": "2xxvEjLRJ_3v"
      },
      "execution_count": 89,
      "outputs": []
    },
    {
      "cell_type": "code",
      "source": [
        "#model.save_pretrained(\"./saved_model\") colabın geçici hafızasına kaydetmek için."
      ],
      "metadata": {
        "id": "TPyPWUpwabTZ"
      },
      "execution_count": 87,
      "outputs": []
    },
    {
      "cell_type": "code",
      "source": [
        "#eğer TPU altında çalışıp skorları aldıysak tekrar TPU altında load etmeliyiz.\n",
        "with tpu_strategy.scope(): #modeli geri yüklemek için\n",
        "  loaded_model = TFAutoModelForSequenceClassification.from_pretrained(\"/content/drive/MyDrive/NLP-Profissionals/saved_model\")"
      ],
      "metadata": {
        "colab": {
          "base_uri": "https://localhost:8080/"
        },
        "id": "q4omVuvjKDK7",
        "outputId": "f3387457-56bf-484c-9eec-207168552f02"
      },
      "execution_count": 90,
      "outputs": [
        {
          "output_type": "stream",
          "name": "stderr",
          "text": [
            "Some layers from the model checkpoint at /content/drive/MyDrive/NLP-Profissionals/saved_model were not used when initializing TFBertForSequenceClassification: ['dropout_113']\n",
            "- This IS expected if you are initializing TFBertForSequenceClassification from the checkpoint of a model trained on another task or with another architecture (e.g. initializing a BertForSequenceClassification model from a BertForPreTraining model).\n",
            "- This IS NOT expected if you are initializing TFBertForSequenceClassification from the checkpoint of a model that you expect to be exactly identical (initializing a BertForSequenceClassification model from a BertForSequenceClassification model).\n",
            "All the layers of TFBertForSequenceClassification were initialized from the model checkpoint at /content/drive/MyDrive/NLP-Profissionals/saved_model.\n",
            "If your task is similar to the task the model of the checkpoint was trained on, you can already use TFBertForSequenceClassification for predictions without further training.\n"
          ]
        }
      ]
    },
    {
      "cell_type": "markdown",
      "source": [
        "## Prediction"
      ],
      "metadata": {
        "id": "CvJu-veQ2W0I"
      }
    },
    {
      "cell_type": "code",
      "source": [
        "sample1=\"Meteorolojiden kuvvetli yağış uyarısı Meteoroloji Genel Müdürlüğünden yapılan uyarıya göre, yarın Kıyı Ege \\\n",
        "(İzmir, Aydın, Muğla, Manisa) ile Edirne'nin güneyi, Balıkesir'in batı kıyıları (Edremit, Ayvalık, Burhaniye, Havran, \\\n",
        "Gömeç ilçeleri) ve Çanakkale çevrelerinde kuvvetli ve yer yer çok kuvvetli, gök gürültülü sağanak öngörülüyor. Ani sel, \\\n",
        "su baskını, yıldırım, yağış anında kuvvetli rüzgar, yerel dolu yağışı ve hortum gibi olumsuzluklara karşı dikkatli ve \\\n",
        "tedbirli olunması gerekiyor.\""
      ],
      "metadata": {
        "id": "99SbL6n5KFwj"
      },
      "execution_count": 91,
      "outputs": []
    },
    {
      "cell_type": "code",
      "source": [
        "sample2=\"\"\"Teknopark İstanbul'un Rejenerasyon-20 projesine başvurular başladı Teknopark İstanbul açıklamasına göre, evde yaşam,\\\n",
        " erişim-lojistik, uzaktan çalışma ve sosyal girişim konularında çalışmalar yapan ön kuluçka ve kuluçka aşamasına gelen \\\n",
        " girişimcilerin başvurabileceği Rejenerasyon-20 projesi girişim ekosisteminin yeniden yapılanmasını kapsıyor. Projeyle; \\\n",
        " prototip üretme, prototip geliştirme veya ürünleşme aşamasındaki girişimlere dijital hızlandırma, ticarileşme aşamasındaki \\\n",
        " girişimlere ise danışmanlık programı verilecek. Danışmanlık programından; ürününü bitirmiş, \"scale up\" aşamasında olan ya da \\\n",
        " salgından önce gelir üretebilen fakat şu an iş yapmakta zorlanan genç girişimler yararlanabilecek. Başvuruların 3-17 Temmuz'da \\\n",
        " gerçekleştirilebileceği Rejenerasyon-20 Projesi'ne, rejenerasyon20.com adresinden başvurulabiliyor. Dijital Hızlandırma Programı'na\\\n",
        "  başlayacak olan 15 girişim grubu; proje ekibi, teknik destek yetkilisi ve insan kaynakları danışmanının ortak görüşü ile \\\n",
        "  değerlendirmeye alınacak. 150 saat mentorluk desteği verilecek Program boyunca girişim gruplarına toplamda; 50 saat finansal \\\n",
        "  danışmanlık desteği, 360 saat teknik analiz, yazılım danışmanlığı ve test desteği, 150 saat mentorluk desteği, 150 saat insan \\\n",
        "  kaynakları danışmanlığı, 30 saat hukuk danışmanlık desteği, 30 saat fikri ve sınai mülkiyet haklar danışmanlık desteği, \\\n",
        "  stratejik marka iletişimi ve dijital pazarlama danışmanlığı, iş geliştirme ve pazarlama desteği, prototipleme-üretim \\\n",
        "  danışmanlığı, kapsamlı stratejik analiz ve plan oluşturma desteği, 6 ay boyunca iş geliştirme uygulamaları desteği \\\n",
        "  gibi destekler sunulacak. Ara değerlendirme sonrasında elemeden geçecek 15 girişimci sayısı jüri elemesi sonucu 10'a \\\n",
        "  düşürülecek. İkinci aşamaya geçen 10 girişime ayrıca; sosyal medya tanıtım desteği, kurumsal kimlik ve dijital tasarım \\\n",
        "  desteği, 100 saat kullanıcı ara yüz tasarım desteği, prototipleme desteği, 2 yıl boyunca bulut veri depolama hizmeti \\\n",
        "  sunulacak. Program sonunda 10 girişim, \"demoday\" etkinliğinde kurumsal firma ve yatırımcılara sunum yapma fırsatına \\\n",
        "  erişecek. Danışmanlık başvurusundan ise 25 girişim yararlanabilecek. Bu girişimlere toplamda 300 saatlik psikolojik, \\\n",
        "  finansal ve pazarlama danışmanlığı verilecek. Öte yandan, projenin son ayağı olan Video Portal Modülü ile daha büyük \\\n",
        "  kitleye hitap edilecek ve girişimlerin en çok merak ettiği 100 soru konunun uzmanları tarafından kısa videolarla cevaplanacak. \\\n",
        "  \"Uluslararası arenada rekabet eden ürünlerin hayata geçeceğine inanıyoruz\" Açıklamada görüşlerine yer verilen Teknopark İstanbul \\\n",
        "  Genel Müdürü Bilal Topçu, destekten yararlanacak girişimcilerin; kalıcı, uygulanabilir ve çağdaş metotlara dayanan destek \\\n",
        "  mekanizmalarıyla projelerini başarıyla hayata geçireceklerini belirterek, şunları kaydetti: \"Rejenerasyon-20 ile \\\n",
        "  girişimcilik ekosistemimizdeki başarılı genç beyinlerimizin uluslararası arenada rekabet eden ürünler ve uygulamalar hayata \\\n",
        "  geçireceğine inanıyoruz.\"\"\""
      ],
      "metadata": {
        "id": "nYym1zdzK-ok"
      },
      "execution_count": 92,
      "outputs": []
    },
    {
      "cell_type": "code",
      "source": [
        "samples=[]\n",
        "for i in [sample1, sample2]:\n",
        "  samples.append({\"text\": str(i)})"
      ],
      "metadata": {
        "id": "pAZjt9ZKKKiL"
      },
      "execution_count": 93,
      "outputs": []
    },
    {
      "cell_type": "code",
      "source": [
        "def prep_data(samples, model):\n",
        "  from datasets import Dataset\n",
        "  samples_dataset = Dataset.from_list(samples)\n",
        "  samples_tokenized_data = samples_dataset.map(transformation, batched=True)\n",
        "  tf_dataset_samples = model.prepare_tf_dataset(samples_tokenized_data , batch_size=32, shuffle=False)\n",
        "  return tf_dataset_samples"
      ],
      "metadata": {
        "id": "Eo3MjYJ6d5mD"
      },
      "execution_count": 94,
      "outputs": []
    },
    {
      "cell_type": "code",
      "source": [
        "tf_dataset_samples=prep_data(samples, loaded_model) #loed ettiğim model"
      ],
      "metadata": {
        "colab": {
          "base_uri": "https://localhost:8080/",
          "height": 49,
          "referenced_widgets": [
            "72b1a7e874304a9db987ed92c45d0c95",
            "1b6a4a7d3a134d99a2f765916026f8c3",
            "7916c7bab4ed4d0f9266bcbd99dbcab9",
            "dd8bdfd98de4427ab8d592e05cb4ce5d",
            "1143a10b800c44869e5a9bb4d469f7d7",
            "d69472855433486197f7e8c6c890acb3",
            "ecb3b4fecc7d4f89a50826f4f4282bc7",
            "ccf9cfedae3d422385ff18bc1e6d19fe",
            "291cf2dd8f054eb1b38a59079c8312d6",
            "6d43788dd3104a7c9716eaf827ab907c",
            "cbf284aedb7943a0b678778cef363d2a"
          ]
        },
        "id": "UxBWAon_edDG",
        "outputId": "8119646c-f965-4149-92ef-f67abdc48cd2"
      },
      "execution_count": 96,
      "outputs": [
        {
          "output_type": "display_data",
          "data": {
            "text/plain": [
              "Map:   0%|          | 0/2 [00:00<?, ? examples/s]"
            ],
            "application/vnd.jupyter.widget-view+json": {
              "version_major": 2,
              "version_minor": 0,
              "model_id": "72b1a7e874304a9db987ed92c45d0c95"
            }
          },
          "metadata": {}
        }
      ]
    },
    {
      "cell_type": "code",
      "source": [
        "logits=loaded_model.predict(tf_dataset_samples)\n",
        "logits"
      ],
      "metadata": {
        "colab": {
          "base_uri": "https://localhost:8080/"
        },
        "id": "s4BSIGBsL_7R",
        "outputId": "04129a7c-ec9a-4787-a143-996a0c1419e9"
      },
      "execution_count": 97,
      "outputs": [
        {
          "output_type": "stream",
          "name": "stdout",
          "text": [
            "1/1 [==============================] - 18s 18s/step\n"
          ]
        },
        {
          "output_type": "execute_result",
          "data": {
            "text/plain": [
              "TFSequenceClassifierOutput(loss=None, logits=array([[-2.119552  , -2.457046  , -0.78798264, -1.4512428 ,  3.7963486 ,\n",
              "         0.49406558, -1.4886853 , -0.3986424 , -1.1254185 ,  4.65564   ,\n",
              "        -0.27660283],\n",
              "       [ 4.335328  , -0.2562752 , -0.73242676,  2.1521454 ,  0.6746093 ,\n",
              "         0.427798  , -1.6206292 , -1.3415682 , -1.5459846 , -0.93438447,\n",
              "        -1.4321568 ]], dtype=float32), hidden_states=None, attentions=None)"
            ]
          },
          "metadata": {},
          "execution_count": 97
        }
      ]
    },
    {
      "cell_type": "code",
      "source": [
        "probs= tf.nn.softmax(logits.logits, axis=-1).numpy()\n",
        "probs"
      ],
      "metadata": {
        "colab": {
          "base_uri": "https://localhost:8080/"
        },
        "id": "gPzNfmWMMFdM",
        "outputId": "20f16914-c2fd-4f87-ba14-7b58955b8c2e"
      },
      "execution_count": 98,
      "outputs": [
        {
          "output_type": "execute_result",
          "data": {
            "text/plain": [
              "array([[7.7862083e-04, 5.5558985e-04, 2.9486241e-03, 1.5190395e-03,\n",
              "        2.8878129e-01, 1.0626882e-02, 1.4632148e-03, 4.3521873e-03,\n",
              "        2.1041308e-03, 6.8195331e-01, 4.9170973e-03],\n",
              "       [8.3892757e-01, 8.5038682e-03, 5.2823424e-03, 9.4532311e-02,\n",
              "        2.1572201e-02, 1.6854106e-02, 2.1731267e-03, 2.8726307e-03,\n",
              "        2.3415464e-03, 4.3163574e-03, 2.6238423e-03]], dtype=float32)"
            ]
          },
          "metadata": {},
          "execution_count": 98
        }
      ]
    },
    {
      "cell_type": "code",
      "source": [
        "y_pred = np.argmax(probs, axis=1)\n",
        "y_pred"
      ],
      "metadata": {
        "colab": {
          "base_uri": "https://localhost:8080/"
        },
        "id": "AQPHOVBYMXb_",
        "outputId": "6914f56e-9322-4431-86f5-d1514a54c50e"
      },
      "execution_count": 99,
      "outputs": [
        {
          "output_type": "execute_result",
          "data": {
            "text/plain": [
              "array([9, 0])"
            ]
          },
          "metadata": {},
          "execution_count": 99
        }
      ]
    },
    {
      "cell_type": "code",
      "source": [
        "label_dict"
      ],
      "metadata": {
        "colab": {
          "base_uri": "https://localhost:8080/"
        },
        "id": "JlY1RW3qMrsU",
        "outputId": "3f2039a7-42b2-4909-cf39-e10973655c2e"
      },
      "execution_count": 100,
      "outputs": [
        {
          "output_type": "execute_result",
          "data": {
            "text/plain": [
              "{'bilim_teknoloji': 0,\n",
              " 'dunya': 1,\n",
              " 'egitim': 2,\n",
              " 'ekonomi': 3,\n",
              " 'guncel': 4,\n",
              " 'gundem': 5,\n",
              " 'kultur_sanat': 6,\n",
              " 'saglik': 7,\n",
              " 'spor': 8,\n",
              " 'turkiye': 9,\n",
              " 'yasam': 10}"
            ]
          },
          "metadata": {},
          "execution_count": 100
        }
      ]
    },
    {
      "cell_type": "code",
      "source": [
        "classification(tf_dataset_samples)"
      ],
      "metadata": {
        "id": "KgAPZdOQNNK7",
        "colab": {
          "base_uri": "https://localhost:8080/"
        },
        "outputId": "0d3b56ec-7083-42f2-c7dc-ca2bc0d791c1"
      },
      "execution_count": 101,
      "outputs": [
        {
          "output_type": "stream",
          "name": "stdout",
          "text": [
            "1/1 [==============================] - 16s 16s/step\n"
          ]
        },
        {
          "output_type": "execute_result",
          "data": {
            "text/plain": [
              "array([9, 0])"
            ]
          },
          "metadata": {},
          "execution_count": 101
        }
      ]
    },
    {
      "cell_type": "markdown",
      "source": [
        "# Thank you for your visit ❤\n",
        "\n",
        "##The End ♟"
      ],
      "metadata": {
        "id": "43hXcDQEceGC"
      }
    }
  ]
}